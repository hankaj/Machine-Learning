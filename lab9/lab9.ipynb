{
 "cells": [
  {
   "cell_type": "code",
   "execution_count": 1,
   "id": "6d8491a8-e39f-4314-82c4-bdce57d00d05",
   "metadata": {},
   "outputs": [],
   "source": [
    "from sklearn.datasets import load_iris\n",
    "iris = load_iris(as_frame=True)"
   ]
  },
  {
   "cell_type": "code",
   "execution_count": 2,
   "id": "460c29f6-c6df-45a9-8c97-98a4417d565a",
   "metadata": {},
   "outputs": [
    {
     "data": {
      "text/plain": [
       "<AxesSubplot:xlabel='petal length (cm)', ylabel='petal width (cm)'>"
      ]
     },
     "execution_count": 2,
     "metadata": {},
     "output_type": "execute_result"
    },
    {
     "data": {
      "image/png": "[encoded data removed]",
      "text/plain": [
       "<Figure size 432x288 with 2 Axes>"
      ]
     },
     "metadata": {
      "needs_background": "light"
     },
     "output_type": "display_data"
    }
   ],
   "source": [
    "import pandas as pd\n",
    "pd.concat([iris.data, iris.target], axis=1).plot.scatter(\n",
    "    x='petal length (cm)',\n",
    "    y='petal width (cm)',\n",
    "    c='target',\n",
    "    colormap='viridis'\n",
    ")"
   ]
  },
  {
   "cell_type": "code",
   "execution_count": 3,
   "id": "9f5225b0-1008-4bd4-8eb8-de37d25a10d7",
   "metadata": {},
   "outputs": [],
   "source": [
    "from sklearn.model_selection import train_test_split\n",
    "X = iris.data[[\"petal length (cm)\", \"petal width (cm)\"]]\n",
    "y = iris.target\n",
    "X_train, X_test, y_train, y_test = train_test_split(X, y, test_size=0.2)"
   ]
  },
  {
   "cell_type": "code",
   "execution_count": 4,
   "id": "f6b9a4f7-7fd1-4668-bc9f-96d8ef643773",
   "metadata": {},
   "outputs": [],
   "source": [
    "from sklearn.linear_model import Perceptron\n",
    "per_clf_0 = Perceptron()\n",
    "y_train_0 = (y_train == 0).astype(int)\n",
    "y_test_0 = (y_test == 0).astype(int)\n",
    "\n",
    "per_clf_1 = Perceptron()\n",
    "y_train_1 = (y_train == 1).astype(int)\n",
    "y_test_1 = (y_test == 1).astype(int)\n",
    "\n",
    "per_clf_2 = Perceptron()\n",
    "y_train_2 = (y_train == 2).astype(int)\n",
    "y_test_2 = (y_test == 2).astype(int)"
   ]
  },
  {
   "cell_type": "code",
   "execution_count": 5,
   "id": "23b4a774-d155-4c70-b547-c49338101066",
   "metadata": {},
   "outputs": [],
   "source": [
    "per_clf_0.fit(X_train, y_train_0)\n",
    "y_pred_train_0 = per_clf_0.predict(X_train)\n",
    "y_pred_test_0 = per_clf_0.predict(X_test)\n",
    "\n",
    "per_clf_1.fit(X_train, y_train_1)\n",
    "y_pred_train_1 = per_clf_1.predict(X_train)\n",
    "y_pred_test_1 = per_clf_1.predict(X_test)\n",
    "\n",
    "per_clf_2.fit(X_train, y_train_2)\n",
    "y_pred_train_2 = per_clf_2.predict(X_train)\n",
    "y_pred_test_2 = per_clf_2.predict(X_test)"
   ]
  },
  {
   "cell_type": "code",
   "execution_count": 6,
   "id": "efdebaa3-aea8-4e46-aa8d-80d62fec8b9c",
   "metadata": {},
   "outputs": [],
   "source": [
    "from sklearn.metrics import accuracy_score\n",
    "train_acc_0 = accuracy_score(y_train_0, y_pred_train_0)\n",
    "test_acc_0 = accuracy_score(y_test_0, y_pred_test_0)\n",
    "\n",
    "train_acc_1 = accuracy_score(y_train_1, y_pred_train_1)\n",
    "test_acc_1 = accuracy_score(y_test_1, y_pred_test_1)\n",
    "\n",
    "train_acc_2 = accuracy_score(y_train_2, y_pred_train_2)\n",
    "test_acc_2 = accuracy_score(y_test_2, y_pred_test_2)"
   ]
  },
  {
   "cell_type": "code",
   "execution_count": 7,
   "id": "eeed048f-ae14-4f57-a088-b5aef00e5c9a",
   "metadata": {},
   "outputs": [
    {
     "data": {
      "text/plain": [
       "[(1.0, 1.0),\n",
       " (0.43333333333333335, 0.6),\n",
       " (0.9583333333333334, 0.9666666666666667)]"
      ]
     },
     "execution_count": 7,
     "metadata": {},
     "output_type": "execute_result"
    }
   ],
   "source": [
    "per_acc = [(train_acc_0, test_acc_0), (train_acc_1, test_acc_1), (train_acc_2, test_acc_2)]\n",
    "per_acc"
   ]
  },
  {
   "cell_type": "code",
   "execution_count": 8,
   "id": "c166aaad-5c5f-4612-8dec-d4017b2ea249",
   "metadata": {},
   "outputs": [],
   "source": [
    "per_wght = []\n",
    "for perceptron in [per_clf_0, per_clf_1, per_clf_2]:\n",
    "    w_0 = perceptron.intercept_[0]\n",
    "    w_1 = perceptron.coef_[0, 0]\n",
    "    w_2 = perceptron.coef_[0, 1]\n",
    "    per_wght.append((w_0, w_1, w_2))"
   ]
  },
  {
   "cell_type": "code",
   "execution_count": 9,
   "id": "9f798241-510f-449a-b4f0-1e63c04fffef",
   "metadata": {},
   "outputs": [
    {
     "data": {
      "text/plain": [
       "[(3.0, -1.1000000000000008, -1.3),\n",
       " (-10.0, 10.399999999999991, -17.899999999999952),\n",
       " (-61.0, 1.5999999999999952, 32.199999999999996)]"
      ]
     },
     "execution_count": 9,
     "metadata": {},
     "output_type": "execute_result"
    }
   ],
   "source": [
    "per_wght"
   ]
  },
  {
   "cell_type": "code",
   "execution_count": 10,
   "id": "cbc5f52e-f774-4171-a829-7c91cefe306f",
   "metadata": {},
   "outputs": [],
   "source": [
    "import pickle\n",
    "with open('per_acc.pkl', 'wb') as fp:\n",
    "    pickle.dump(per_acc, fp)\n",
    "with open('per_wght.pkl', 'wb') as fp:\n",
    "    pickle.dump(per_wght, fp)"
   ]
  },
  {
   "cell_type": "code",
   "execution_count": 11,
   "id": "8fabe3ae-c2ed-4453-a35a-39d827191ead",
   "metadata": {},
   "outputs": [],
   "source": [
    "import numpy as np\n",
    "X = np.array([[0, 0], [0, 1], [1, 0], [1, 1]])\n",
    "y = np.array([0, 1, 1, 0])"
   ]
  },
  {
   "cell_type": "code",
   "execution_count": 12,
   "id": "9f7a553d-d471-42b7-b75e-7ba9ab23e4d6",
   "metadata": {},
   "outputs": [],
   "source": [
    "import keras\n",
    "import tensorflow as tf\n",
    "model = keras.models.Sequential()\n",
    "model.add(keras.layers.Dense(2, activation=\"tanh\", use_bias=True, input_dim=2))\n",
    "model.add(keras.layers.Dense(1, activation=\"sigmoid\", use_bias=True))"
   ]
  },
  {
   "cell_type": "code",
   "execution_count": 13,
   "id": "bfe10756-c6a6-4b67-b6d2-812bbb2abbf1",
   "metadata": {},
   "outputs": [
    {
     "name": "stdout",
     "output_type": "stream",
     "text": [
      "Model: \"sequential\"\n",
      "_________________________________________________________________\n",
      " Layer (type)                Output Shape              Param #   \n",
      "=================================================================\n",
      " dense (Dense)               (None, 2)                 6         \n",
      "                                                                 \n",
      " dense_1 (Dense)             (None, 1)                 3         \n",
      "                                                                 \n",
      "=================================================================\n",
      "Total params: 9\n",
      "Trainable params: 9\n",
      "Non-trainable params: 0\n",
      "_________________________________________________________________\n"
     ]
    }
   ],
   "source": [
    "model.summary()"
   ]
  },
  {
   "cell_type": "code",
   "execution_count": 14,
   "id": "fb771186-434a-40f5-929d-2a4410410593",
   "metadata": {},
   "outputs": [],
   "source": [
    "model.compile(loss=\"binary_crossentropy\",\n",
    "optimizer=\"sgd\")"
   ]
  },
  {
   "cell_type": "code",
   "execution_count": 15,
   "id": "7bfd9460-f069-4889-9296-f64f5dfc1851",
   "metadata": {},
   "outputs": [
    {
     "name": "stdout",
     "output_type": "stream",
     "text": [
      "[0.6829279661178589, 0.6826632618904114, 0.6824003458023071, 0.6821392774581909, 0.6818798184394836, 0.6816221475601196, 0.6813663244247437, 0.6811119914054871, 0.6808594465255737, 0.6806085705757141, 0.6803593635559082, 0.6801117658615112, 0.679865837097168, 0.6796215772628784, 0.679378867149353, 0.6791378259658813, 0.678898274898529, 0.6786603331565857, 0.6784240007400513, 0.6781891584396362, 0.6779558658599854, 0.6777241230010986, 0.6774938702583313, 0.6772651076316833, 0.6770378947257996, 0.6768120527267456, 0.6765878200531006, 0.6763648986816406, 0.6761435270309448, 0.6759234666824341, 0.6757049560546875, 0.675487756729126, 0.6752720475196838, 0.6750577092170715, 0.6748446822166443, 0.6746330857276917, 0.6744228005409241, 0.6742138862609863, 0.6740062236785889, 0.673799991607666, 0.6735950708389282, 0.6733914017677307, 0.6731890439987183, 0.6729879379272461, 0.672788143157959, 0.6725895404815674, 0.6723922491073608, 0.6721962690353394, 0.6720013618469238, 0.6718078255653381, 0.6716153621673584, 0.6714242100715637, 0.6712342500686646, 0.6710454225540161, 0.6708577275276184, 0.670671284198761, 0.6704859733581543, 0.6703017950057983, 0.6701188087463379, 0.6699368953704834, 0.6697560548782349, 0.6695764064788818, 0.6693978309631348, 0.6692203283309937, 0.6690439581871033, 0.6688686609268188, 0.6686943173408508, 0.6685212254524231, 0.6683490872383118, 0.6681779026985168, 0.6680078506469727, 0.6678388714790344, 0.6676708459854126, 0.667503833770752, 0.6673378348350525, 0.6671727895736694, 0.6670087575912476, 0.6668456792831421, 0.6666836738586426, 0.6665225625038147, 0.6663623452186584, 0.6662031412124634, 0.6660448312759399, 0.6658874750137329, 0.6657311320304871, 0.6655756235122681, 0.6654210090637207, 0.6652673482894897, 0.6651145219802856, 0.664962649345398, 0.6648116111755371, 0.6646615266799927, 0.6645122170448303, 0.6643637418746948, 0.6642162799835205, 0.6640695333480835, 0.6639236211776733, 0.6637786030769348, 0.6636344194412231, 0.6634910106658936]\n"
     ]
    }
   ],
   "source": [
    "history = model.fit(X, y, epochs=100, verbose=False)\n",
    "print(history.history['loss'])"
   ]
  },
  {
   "cell_type": "code",
   "execution_count": 16,
   "id": "23926dd3-6c22-46a0-b911-de94752fd92a",
   "metadata": {},
   "outputs": [
    {
     "data": {
      "text/plain": [
       "array([[0.45868444],\n",
       "       [0.62352264],\n",
       "       [0.64777106],\n",
       "       [0.6779514 ]], dtype=float32)"
      ]
     },
     "execution_count": 16,
     "metadata": {},
     "output_type": "execute_result"
    }
   ],
   "source": [
    "model.predict(X)"
   ]
  },
  {
   "cell_type": "code",
   "execution_count": 17,
   "id": "e01916a9-989a-4ab9-b9fc-08b6077c6e85",
   "metadata": {},
   "outputs": [],
   "source": [
    "model2 = keras.models.Sequential()\n",
    "model2.add(keras.layers.Dense(2, activation=\"tanh\", use_bias=True, input_dim=2))\n",
    "model2.add(keras.layers.Dense(1, activation=\"sigmoid\"))\n",
    "model2.compile(loss=\"binary_crossentropy\", optimizer=tf.keras.optimizers.Adam(learning_rate=0.05))\n",
    "history = model2.fit(X, y, epochs=100, verbose=False)"
   ]
  },
  {
   "cell_type": "code",
   "execution_count": 18,
   "id": "b1a8e9db-a68e-4881-bc7d-2915e6d4acf7",
   "metadata": {},
   "outputs": [
    {
     "data": {
      "text/plain": [
       "array([[0.33349913],\n",
       "       [0.89714193],\n",
       "       [0.38888445],\n",
       "       [0.30578515]], dtype=float32)"
      ]
     },
     "execution_count": 18,
     "metadata": {},
     "output_type": "execute_result"
    }
   ],
   "source": [
    "model2.predict(X)"
   ]
  },
  {
   "cell_type": "code",
   "execution_count": 19,
   "id": "2c2e4b98-7e9b-4c71-a1a9-d7c59d6e3545",
   "metadata": {},
   "outputs": [],
   "source": [
    "model3 = keras.models.Sequential()\n",
    "model3.add(keras.layers.Dense(2, activation=\"tanh\", use_bias=True, input_dim=2))\n",
    "model3.add(keras.layers.Dense(1, activation=\"sigmoid\"))\n",
    "model3.compile(loss='mean_squared_error',\n",
    "               optimizer=tf.keras.optimizers.Adam(learning_rate=0.05), metrics=['binary_accuracy'])\n",
    "history = model3.fit(X, y, epochs=100, verbose=False)"
   ]
  },
  {
   "cell_type": "code",
   "execution_count": 20,
   "id": "0a1f64af-6159-4dc1-a196-7c32783b438f",
   "metadata": {},
   "outputs": [
    {
     "data": {
      "text/plain": [
       "array([[0.04454085],\n",
       "       [0.9359033 ],\n",
       "       [0.9426713 ],\n",
       "       [0.04480869]], dtype=float32)"
      ]
     },
     "execution_count": 20,
     "metadata": {},
     "output_type": "execute_result"
    }
   ],
   "source": [
    "model3.predict(X)"
   ]
  },
  {
   "cell_type": "code",
   "execution_count": 25,
   "id": "dfd1a2be-6910-4b14-9c73-96e9c2014e62",
   "metadata": {},
   "outputs": [
    {
     "name": "stdout",
     "output_type": "stream",
     "text": [
      "WARNING:tensorflow:5 out of the last 5 calls to <function Model.make_predict_function.<locals>.predict_function at 0x7ff8974fd700> triggered tf.function retracing. Tracing is expensive and the excessive number of tracings could be due to (1) creating @tf.function repeatedly in a loop, (2) passing tensors with different shapes, (3) passing Python objects instead of tensors. For (1), please define your @tf.function outside of the loop. For (2), @tf.function has experimental_relax_shapes=True option that relaxes argument shapes that can avoid unnecessary retracing. For (3), please refer to https://www.tensorflow.org/guide/function#controlling_retracing and https://www.tensorflow.org/api_docs/python/tf/function for  more details.\n"
     ]
    }
   ],
   "source": [
    "found = False\n",
    "while not found:\n",
    "    model4 = keras.models.Sequential()\n",
    "    model4.add(keras.layers.Dense(2, activation=\"tanh\", input_dim=2))\n",
    "    model4.add(keras.layers.Dense(1, activation=\"sigmoid\"))\n",
    "    model4.compile(loss='binary_crossentropy',\n",
    "                   optimizer=tf.keras.optimizers.Adam(learning_rate=0.1), metrics=[\"accuracy\"])\n",
    "    history = model4.fit(X, y, epochs=100, verbose=False)\n",
    "    results = model4.predict(X)\n",
    "    if results[0]<0.1 and results[1]>0.9 and results[2]>0.9 and results[0]<0.1:\n",
    "        found = True"
   ]
  },
  {
   "cell_type": "code",
   "execution_count": 26,
   "id": "9ecd98c8-0e99-4a40-bb93-600bd7ac27c8",
   "metadata": {},
   "outputs": [
    {
     "data": {
      "text/plain": [
       "array([[0.00533327],\n",
       "       [0.9892911 ],\n",
       "       [0.9902787 ],\n",
       "       [0.00446132]], dtype=float32)"
      ]
     },
     "execution_count": 26,
     "metadata": {},
     "output_type": "execute_result"
    }
   ],
   "source": [
    "results"
   ]
  },
  {
   "cell_type": "code",
   "execution_count": 27,
   "id": "8a58a8b1-80c2-481e-b1b6-9d5bc3c703a9",
   "metadata": {},
   "outputs": [
    {
     "data": {
      "text/plain": [
       "[array([[-4.0364437,  3.8600276],\n",
       "        [ 4.721903 , -3.8612096]], dtype=float32),\n",
       " array([1.8706245, 1.8734791], dtype=float32),\n",
       " array([[-5.23543  ],\n",
       "        [-5.2147465]], dtype=float32),\n",
       " array([4.738738], dtype=float32)]"
      ]
     },
     "execution_count": 27,
     "metadata": {},
     "output_type": "execute_result"
    }
   ],
   "source": [
    "weights=model4.get_weights()\n",
    "weights"
   ]
  },
  {
   "cell_type": "code",
   "execution_count": 24,
   "id": "c8612824-2fe9-4249-9a6d-473822c7a530",
   "metadata": {},
   "outputs": [],
   "source": [
    "with open('mlp_xor_weights.pkl', 'wb') as fp:\n",
    "    pickle.dump(weights, fp)"
   ]
  }
 ],
 "metadata": {
  "kernelspec": {
   "display_name": "Python 3",
   "language": "python",
   "name": "python3"
  },
  "language_info": {
   "codemirror_mode": {
    "name": "ipython",
    "version": 3
   },
   "file_extension": ".py",
   "mimetype": "text/x-python",
   "name": "python",
   "nbconvert_exporter": "python",
   "pygments_lexer": "ipython3",
   "version": "3.8.2"
  }
 },
 "nbformat": 4,
 "nbformat_minor": 5
}
