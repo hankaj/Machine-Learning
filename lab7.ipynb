{
 "cells": [
  {
   "cell_type": "code",
   "execution_count": 3,
   "id": "af2da1e0-69a6-42bf-ae35-cc51ee0f42c6",
   "metadata": {},
   "outputs": [],
   "source": [
    "from sklearn.datasets import fetch_openml\n",
    "import numpy as np\n",
    "mnist = fetch_openml('mnist_784', version=1, as_frame=False)\n",
    "mnist.target = mnist.target.astype(np.uint8)\n",
    "X = mnist[\"data\"]\n",
    "y = mnist[\"target\"]"
   ]
  },
  {
   "cell_type": "code",
   "execution_count": 7,
   "id": "0f2778c7-0d15-426e-a39d-9d8db0e0a4cd",
   "metadata": {},
   "outputs": [],
   "source": [
    "kmeans = []\n",
    "kmeans_sil = []"
   ]
  },
  {
   "cell_type": "code",
   "execution_count": 8,
   "id": "8a6eefd1-fdeb-42a9-9b4e-db2f94d31cdf",
   "metadata": {},
   "outputs": [],
   "source": [
    "from sklearn.cluster import KMeans\n",
    "from sklearn.metrics import silhouette_score\n",
    "\n",
    "for i in range(8, 13):\n",
    "    kmeans_i = KMeans(n_clusters=i)\n",
    "    kmeans_i.fit(X)\n",
    "    sil = silhouette_score(X, kmeans_i.labels_)\n",
    "    kmeans.append(kmeans_i)\n",
    "    kmeans_sil.append(sil)"
   ]
  },
  {
   "cell_type": "code",
   "execution_count": 9,
   "id": "dfba71c3-e1d0-4ee0-811b-d4ec1a2ab582",
   "metadata": {},
   "outputs": [
    {
     "name": "stdout",
     "output_type": "stream",
     "text": [
      "[0.07339257175586465, 0.05683395069909048, 0.05869201052848778, 0.05834321752619889, 0.05818055304728226]\n"
     ]
    }
   ],
   "source": [
    "print(kmeans_sil)"
   ]
  },
  {
   "cell_type": "code",
   "execution_count": 10,
   "id": "f01d08b0-8bd8-404b-aec5-b01fa5053294",
   "metadata": {},
   "outputs": [],
   "source": [
    "import pickle\n",
    "with open('kmeans_sil.pkl', 'wb') as fp:\n",
    "    pickle.dump(kmeans_sil, fp)"
   ]
  },
  {
   "cell_type": "code",
   "execution_count": 11,
   "id": "c607f993-90b9-4481-8e18-57f8d34c76c7",
   "metadata": {},
   "outputs": [],
   "source": [
    "kmeans_10 = kmeans[2]\n",
    "y_pred = kmeans_10.predict(X)"
   ]
  },
  {
   "cell_type": "code",
   "execution_count": 12,
   "id": "0bea22d9-065f-46dc-8cde-877235b7a37e",
   "metadata": {},
   "outputs": [],
   "source": [
    "from sklearn.metrics import confusion_matrix\n",
    "conf = confusion_matrix(y, y_pred)"
   ]
  },
  {
   "cell_type": "code",
   "execution_count": 13,
   "id": "d84418be-8f60-435a-8b4a-3a21b8e99ef8",
   "metadata": {},
   "outputs": [
    {
     "name": "stdout",
     "output_type": "stream",
     "text": [
      "[[5053    2  290   39    9    4  162    7   72 1265]\n",
      " [   0 4293    8    7   10 3526    7   11    8    7]\n",
      " [  57  423  323  216 4863  436  147   78  201  246]\n",
      " [  24  449 4581  193  216   58   31   45 1083  461]\n",
      " [   9  178    0 3728   29  234  168 2173   17  288]\n",
      " [  60  155 2129  432    7  280   67  215 1156 1812]\n",
      " [  71  190   38   67   53   45 4326    4   14 2068]\n",
      " [  21  372    6 2094   53  314    4 4399   18   12]\n",
      " [  36  335 1212  208   53  330   51  193 4115  292]\n",
      " [  51  261   87 3462   19   95   16 2849   87   31]]\n"
     ]
    }
   ],
   "source": [
    "print(conf)"
   ]
  },
  {
   "cell_type": "code",
   "execution_count": 19,
   "id": "db9bc70f-467d-4ca2-95ce-881ae6ce547e",
   "metadata": {},
   "outputs": [
    {
     "data": {
      "text/plain": [
       "[0, 1, 2, 3, 4, 6, 7, 8]"
      ]
     },
     "execution_count": 19,
     "metadata": {},
     "output_type": "execute_result"
    }
   ],
   "source": [
    "import numpy as np\n",
    "arg_maxes = list(set(np.argmax(row) for row in conf))\n",
    "kmeans_argmax = sorted(arg_maxes)\n",
    "kmeans_argmax"
   ]
  },
  {
   "cell_type": "code",
   "execution_count": 24,
   "id": "125b44b5-3f64-4ac6-93f1-3246dcc4c759",
   "metadata": {},
   "outputs": [],
   "source": [
    "with open('kmeans_argmax.pkl', 'wb') as fp:\n",
    "    pickle.dump(kmeans_argmax, fp)"
   ]
  },
  {
   "cell_type": "code",
   "execution_count": 34,
   "id": "fbbdd5d8-62b9-4085-9279-6fed2c284dbf",
   "metadata": {},
   "outputs": [],
   "source": [
    "distances = [np.linalg.norm(X[i] - x2) for i in range(300) for x2 in X if not (X[i]==x2).all()]\n",
    "min_distances = sorted(distances)[:10]"
   ]
  },
  {
   "cell_type": "code",
   "execution_count": 35,
   "id": "c89b91d0-9368-4c24-b746-871a6c4d94f8",
   "metadata": {},
   "outputs": [
    {
     "data": {
      "text/plain": [
       "[279.26152617215286,\n",
       " 304.37641170103836,\n",
       " 317.5893575043093,\n",
       " 328.7658741414626,\n",
       " 333.4546445920344,\n",
       " 352.89800226127664,\n",
       " 355.1774204534967,\n",
       " 358.07401469528617,\n",
       " 359.64287842247063,\n",
       " 360.42474942767177]"
      ]
     },
     "execution_count": 35,
     "metadata": {},
     "output_type": "execute_result"
    }
   ],
   "source": [
    "mean = np.mean(min_distances[:3])\n",
    "min_distances"
   ]
  },
  {
   "cell_type": "code",
   "execution_count": null,
   "id": "e1cd8cc7-edd3-49f1-89bb-1b0fd90d8468",
   "metadata": {},
   "outputs": [],
   "source": [
    "from sklearn.cluster import DBSCAN\n",
    "dbscan_len = []\n",
    "for eps in np.arange(mean, mean*1.1, mean*0.04):\n",
    "    dbscan = DBSCAN(eps=eps)\n",
    "    dbscan.fit(X)\n",
    "    dbscan_len.append(len(set(dbscan.labels_)))"
   ]
  },
  {
   "cell_type": "code",
   "execution_count": null,
   "id": "a2ef9e07-0395-4d44-82c0-a06586f4b71e",
   "metadata": {},
   "outputs": [],
   "source": [
    "with open('dbscan_len.pkl', 'wb') as fp:\n",
    "    pickle.dump(dbscan_len, fp)"
   ]
  },
  {
   "cell_type": "code",
   "execution_count": 38,
   "id": "da47af7c-4b7d-400d-8890-3a623f9052d5",
   "metadata": {},
   "outputs": [
    {
     "data": {
      "text/plain": [
       "[70000, 70000, 70000]"
      ]
     },
     "execution_count": 38,
     "metadata": {},
     "output_type": "execute_result"
    }
   ],
   "source": [
    "dbscan_len"
   ]
  },
  {
   "cell_type": "code",
   "execution_count": null,
   "id": "4e5be8a0-46ed-4b76-ae8b-db9fd028a92f",
   "metadata": {},
   "outputs": [],
   "source": []
  }
 ],
 "metadata": {
  "kernelspec": {
   "display_name": "Python 3 (ipykernel)",
   "language": "python",
   "name": "python3"
  },
  "language_info": {
   "codemirror_mode": {
    "name": "ipython",
    "version": 3
   },
   "file_extension": ".py",
   "mimetype": "text/x-python",
   "name": "python",
   "nbconvert_exporter": "python",
   "pygments_lexer": "ipython3",
   "version": "3.9.10"
  }
 },
 "nbformat": 4,
 "nbformat_minor": 5
}
