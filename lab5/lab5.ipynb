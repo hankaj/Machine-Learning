{
 "cells": [
  {
   "cell_type": "code",
   "execution_count": 1,
   "id": "bcab1b3f-f4d0-49f7-a8c4-e7a3cd0a667f",
   "metadata": {},
   "outputs": [],
   "source": [
    "from sklearn import datasets\n",
    "data_breast_cancer = datasets.load_breast_cancer(as_frame=True)"
   ]
  },
  {
   "cell_type": "code",
   "execution_count": 2,
   "id": "369d40f9-817d-42dd-b67e-5d88de43d885",
   "metadata": {},
   "outputs": [
    {
     "data": {
      "text/plain": [
       "<AxesSubplot:xlabel='x', ylabel='y'>"
      ]
     },
     "execution_count": 2,
     "metadata": {},
     "output_type": "execute_result"
    },
    {
     "data": {
      "image/png": "[encoded data removed]",
      "text/plain": [
       "<Figure size 432x288 with 1 Axes>"
      ]
     },
     "metadata": {
      "needs_background": "light"
     },
     "output_type": "display_data"
    }
   ],
   "source": [
    "import numpy as np\n",
    "import pandas as pd\n",
    "size = 300\n",
    "X = np.random.rand(size, 1)*5-2.5\n",
    "w4, w3, w2, w1, w0 = 1, 2, 1, -4, 2\n",
    "y = w4*(X**4) + w3*(X**3) + w2*(X**2) + w1*X + w0 + np.random.randn(size, 1)*8-4\n",
    "df = pd.DataFrame({'x': X[:, 0], 'y': y[:, 0]})\n",
    "df.plot.scatter(x='x',y='y')"
   ]
  },
  {
   "cell_type": "code",
   "execution_count": 3,
   "id": "e4f2d9a5-2be4-4431-8913-95dbef19702a",
   "metadata": {},
   "outputs": [
    {
     "data": {
      "text/html": [
       "<div>\n",
       "<style scoped>\n",
       "    .dataframe tbody tr th:only-of-type {\n",
       "        vertical-align: middle;\n",
       "    }\n",
       "\n",
       "    .dataframe tbody tr th {\n",
       "        vertical-align: top;\n",
       "    }\n",
       "\n",
       "    .dataframe thead th {\n",
       "        text-align: right;\n",
       "    }\n",
       "</style>\n",
       "<table border=\"1\" class=\"dataframe\">\n",
       "  <thead>\n",
       "    <tr style=\"text-align: right;\">\n",
       "      <th></th>\n",
       "      <th>mean texture</th>\n",
       "      <th>mean symmetry</th>\n",
       "    </tr>\n",
       "  </thead>\n",
       "  <tbody>\n",
       "    <tr>\n",
       "      <th>0</th>\n",
       "      <td>10.38</td>\n",
       "      <td>0.2419</td>\n",
       "    </tr>\n",
       "    <tr>\n",
       "      <th>1</th>\n",
       "      <td>17.77</td>\n",
       "      <td>0.1812</td>\n",
       "    </tr>\n",
       "    <tr>\n",
       "      <th>2</th>\n",
       "      <td>21.25</td>\n",
       "      <td>0.2069</td>\n",
       "    </tr>\n",
       "    <tr>\n",
       "      <th>3</th>\n",
       "      <td>20.38</td>\n",
       "      <td>0.2597</td>\n",
       "    </tr>\n",
       "    <tr>\n",
       "      <th>4</th>\n",
       "      <td>14.34</td>\n",
       "      <td>0.1809</td>\n",
       "    </tr>\n",
       "    <tr>\n",
       "      <th>...</th>\n",
       "      <td>...</td>\n",
       "      <td>...</td>\n",
       "    </tr>\n",
       "    <tr>\n",
       "      <th>564</th>\n",
       "      <td>22.39</td>\n",
       "      <td>0.1726</td>\n",
       "    </tr>\n",
       "    <tr>\n",
       "      <th>565</th>\n",
       "      <td>28.25</td>\n",
       "      <td>0.1752</td>\n",
       "    </tr>\n",
       "    <tr>\n",
       "      <th>566</th>\n",
       "      <td>28.08</td>\n",
       "      <td>0.1590</td>\n",
       "    </tr>\n",
       "    <tr>\n",
       "      <th>567</th>\n",
       "      <td>29.33</td>\n",
       "      <td>0.2397</td>\n",
       "    </tr>\n",
       "    <tr>\n",
       "      <th>568</th>\n",
       "      <td>24.54</td>\n",
       "      <td>0.1587</td>\n",
       "    </tr>\n",
       "  </tbody>\n",
       "</table>\n",
       "<p>569 rows × 2 columns</p>\n",
       "</div>"
      ],
      "text/plain": [
       "     mean texture  mean symmetry\n",
       "0           10.38         0.2419\n",
       "1           17.77         0.1812\n",
       "2           21.25         0.2069\n",
       "3           20.38         0.2597\n",
       "4           14.34         0.1809\n",
       "..            ...            ...\n",
       "564         22.39         0.1726\n",
       "565         28.25         0.1752\n",
       "566         28.08         0.1590\n",
       "567         29.33         0.2397\n",
       "568         24.54         0.1587\n",
       "\n",
       "[569 rows x 2 columns]"
      ]
     },
     "execution_count": 3,
     "metadata": {},
     "output_type": "execute_result"
    }
   ],
   "source": [
    "X_bc = data_breast_cancer[\"data\"][[\"mean texture\", \"mean symmetry\"]]\n",
    "X_bc"
   ]
  },
  {
   "cell_type": "code",
   "execution_count": 4,
   "id": "80e2a777-643c-413b-99fd-39298db8fbba",
   "metadata": {},
   "outputs": [
    {
     "data": {
      "text/plain": [
       "0      0\n",
       "1      0\n",
       "2      0\n",
       "3      0\n",
       "4      0\n",
       "      ..\n",
       "564    0\n",
       "565    0\n",
       "566    0\n",
       "567    0\n",
       "568    1\n",
       "Name: target, Length: 569, dtype: int64"
      ]
     },
     "execution_count": 4,
     "metadata": {},
     "output_type": "execute_result"
    }
   ],
   "source": [
    "y_bc = data_breast_cancer[\"target\"]\n",
    "y_bc"
   ]
  },
  {
   "cell_type": "code",
   "execution_count": 5,
   "id": "3d68a7cc-0f04-48a5-b719-30192c6662db",
   "metadata": {},
   "outputs": [],
   "source": [
    "from sklearn.model_selection import train_test_split\n",
    "X_train_bc, X_test_bc, y_train_bc, y_test_bc = train_test_split(X_bc, y_bc, test_size=0.2)"
   ]
  },
  {
   "cell_type": "code",
   "execution_count": 6,
   "id": "505a4fc5-cca6-4388-b40c-f00e92249fbb",
   "metadata": {},
   "outputs": [],
   "source": [
    "# https://www.kaggle.com/code/faressayah/decision-trees-random-forest-for-beginners/notebook"
   ]
  },
  {
   "cell_type": "code",
   "execution_count": 7,
   "id": "725d7470-05de-4f14-8318-4e263d53a0e5",
   "metadata": {},
   "outputs": [],
   "source": [
    "from sklearn.tree import DecisionTreeClassifier\n",
    "from sklearn.model_selection import GridSearchCV\n",
    "\n",
    "params = {\"max_depth\":(list(range(1, 20)))}"
   ]
  },
  {
   "cell_type": "code",
   "execution_count": 8,
   "id": "641c7a1f-7609-481d-8970-cc392cd083ba",
   "metadata": {},
   "outputs": [
    {
     "name": "stdout",
     "output_type": "stream",
     "text": [
      "Fitting 3 folds for each of 19 candidates, totalling 57 fits\n",
      "Best paramters: {'max_depth': 3})\n"
     ]
    }
   ],
   "source": [
    "tree_clf_bc = DecisionTreeClassifier(random_state=42)\n",
    "tree_cv_bc = GridSearchCV(tree_clf_bc, params, scoring=\"f1\", n_jobs=-1, verbose=2, cv=3)\n",
    "tree_cv_bc.fit(X_train_bc, y_train_bc)\n",
    "best_params_bc = tree_cv_bc.best_params_\n",
    "print(f\"Best paramters: {best_params_bc})\")"
   ]
  },
  {
   "cell_type": "code",
   "execution_count": 9,
   "id": "8e3ed206-9a39-4ff0-bf8e-1e2bc328ddb4",
   "metadata": {},
   "outputs": [
    {
     "data": {
      "text/plain": [
       "DecisionTreeClassifier(max_depth=3)"
      ]
     },
     "execution_count": 9,
     "metadata": {},
     "output_type": "execute_result"
    }
   ],
   "source": [
    "tree_clf_bc = DecisionTreeClassifier(**best_params_bc)\n",
    "tree_clf_bc.fit(X_train_bc, y_train_bc)"
   ]
  },
  {
   "cell_type": "code",
   "execution_count": 10,
   "id": "cc9bb365-318b-4c74-a0ba-290493027185",
   "metadata": {},
   "outputs": [],
   "source": [
    "from sklearn.tree import export_graphviz\n",
    "f = \"bc\"\n",
    "export_graphviz(\n",
    "        tree_clf_bc,\n",
    "        out_file=f,\n",
    "        feature_names=[\"mean texture\", \"mean symmetry\"],\n",
    "        class_names=[str(num)+\", \"+name\n",
    "                     for num,name in\n",
    "                     zip(set(data_breast_cancer[\"target\"]), data_breast_cancer.target_names)],\n",
    "        rounded=True,\n",
    "        filled=True)"
   ]
  },
  {
   "cell_type": "code",
   "execution_count": 11,
   "id": "35189e7c-fa63-4af8-a5af-486800e80c48",
   "metadata": {},
   "outputs": [
    {
     "name": "stdout",
     "output_type": "stream",
     "text": [
      "bc.png\n"
     ]
    }
   ],
   "source": [
    "import graphviz\n",
    "print(graphviz.render('dot', 'png', f))"
   ]
  },
  {
   "cell_type": "code",
   "execution_count": 12,
   "id": "a3308d43-abe1-4d62-8b2e-2212dc22b9d2",
   "metadata": {},
   "outputs": [],
   "source": [
    "y_train_pred_bc = tree_clf_bc.predict(X_train_bc)\n",
    "y_test_pred_bc = tree_clf_bc.predict(X_test_bc)"
   ]
  },
  {
   "cell_type": "code",
   "execution_count": 13,
   "id": "b6bc39f6-3e9b-4747-a15d-01fa5a013806",
   "metadata": {},
   "outputs": [],
   "source": [
    "from sklearn.metrics import accuracy_score, f1_score\n",
    "train_acc_bc = accuracy_score(y_train_bc, y_train_pred_bc)\n",
    "test_acc_bc = accuracy_score(y_test_bc, y_test_pred_bc)\n",
    "train_f1_bc = f1_score(y_train_bc, y_train_pred_bc)\n",
    "test_f1_bc = f1_score(y_test_bc, y_test_pred_bc)"
   ]
  },
  {
   "cell_type": "code",
   "execution_count": 14,
   "id": "4eb3f621-5eb4-4573-b59d-6e2dab5846bf",
   "metadata": {},
   "outputs": [],
   "source": [
    "max_depth_bc = best_params_bc[\"max_depth\"]"
   ]
  },
  {
   "cell_type": "code",
   "execution_count": 15,
   "id": "582900b2-ca32-4bfd-9c5a-3f982fd58592",
   "metadata": {},
   "outputs": [
    {
     "data": {
      "text/plain": [
       "[3,\n",
       " 0.8291139240506329,\n",
       " 0.8421052631578948,\n",
       " 0.7626373626373626,\n",
       " 0.7894736842105263]"
      ]
     },
     "execution_count": 15,
     "metadata": {},
     "output_type": "execute_result"
    }
   ],
   "source": [
    "f1acc_tree = [max_depth_bc, train_f1_bc, test_f1_bc, train_acc_bc, test_acc_bc]\n",
    "f1acc_tree"
   ]
  },
  {
   "cell_type": "code",
   "execution_count": 16,
   "id": "d4b4f201-8a42-4e27-9002-d2a780142925",
   "metadata": {},
   "outputs": [],
   "source": [
    "import pickle\n",
    "with open('f1acc_tree.pkl', 'wb') as fp:\n",
    "    pickle.dump(f1acc_tree, fp)"
   ]
  },
  {
   "cell_type": "code",
   "execution_count": 17,
   "id": "bd151d86-231b-4581-9288-c50ba0d76c7e",
   "metadata": {},
   "outputs": [],
   "source": [
    "X_train_reg, X_test_reg, y_train_reg, y_test_reg = train_test_split(X, y, test_size=0.2)"
   ]
  },
  {
   "cell_type": "code",
   "execution_count": 18,
   "id": "612fdfd7-d109-4d9c-8afd-c4e11eeb3e86",
   "metadata": {},
   "outputs": [
    {
     "name": "stdout",
     "output_type": "stream",
     "text": [
      "Fitting 3 folds for each of 19 candidates, totalling 57 fits\n",
      "Best paramters: {'max_depth': 3})\n"
     ]
    }
   ],
   "source": [
    "from sklearn.tree import DecisionTreeRegressor\n",
    "\n",
    "tree_reg = DecisionTreeRegressor(random_state=42)\n",
    "tree_cv_reg = GridSearchCV(tree_reg, params, scoring=\"neg_mean_squared_error\", n_jobs=-1, verbose=2, cv=3)\n",
    "tree_cv_reg.fit(X_train_reg, y_train_reg)\n",
    "best_params_reg = tree_cv_reg.best_params_\n",
    "print(f\"Best paramters: {best_params_reg})\")"
   ]
  },
  {
   "cell_type": "code",
   "execution_count": 28,
   "id": "4ed00116-99d6-4a1a-984e-7498b278b114",
   "metadata": {},
   "outputs": [
    {
     "data": {
      "text/plain": [
       "DecisionTreeRegressor(max_depth=2)"
      ]
     },
     "execution_count": 28,
     "metadata": {},
     "output_type": "execute_result"
    }
   ],
   "source": [
    "tree_reg = DecisionTreeRegressor(max_depth=2)\n",
    "tree_reg.fit(X_train_reg, y_train_reg)"
   ]
  },
  {
   "cell_type": "code",
   "execution_count": 20,
   "id": "ee6dc729-c998-4b88-a793-46f04280f7fe",
   "metadata": {},
   "outputs": [],
   "source": [
    "f_reg = \"reg\"\n",
    "export_graphviz(\n",
    "        tree_reg,\n",
    "        out_file=f_reg,\n",
    "        rounded=True,\n",
    "        filled=True)"
   ]
  },
  {
   "cell_type": "code",
   "execution_count": 21,
   "id": "3b281f38-cc0b-42f9-bb1d-f68015a1ea8d",
   "metadata": {},
   "outputs": [
    {
     "name": "stdout",
     "output_type": "stream",
     "text": [
      "reg.png\n"
     ]
    }
   ],
   "source": [
    "print(graphviz.render('dot', 'png', f_reg))"
   ]
  },
  {
   "cell_type": "code",
   "execution_count": 29,
   "id": "6926dd2b-fbaa-4694-9b53-fdb634d2e8ff",
   "metadata": {},
   "outputs": [],
   "source": [
    "y_train_reg_pred = tree_reg.predict(X_train_reg)\n",
    "y_test_reg_pred = tree_reg.predict(X_test_reg)"
   ]
  },
  {
   "cell_type": "code",
   "execution_count": 23,
   "id": "2cb2fd04-3095-499d-a2ba-b5ca6c56fc93",
   "metadata": {},
   "outputs": [
    {
     "data": {
      "text/plain": [
       "<matplotlib.legend.Legend at 0x7fdca4151040>"
      ]
     },
     "execution_count": 23,
     "metadata": {},
     "output_type": "execute_result"
    },
    {
     "data": {
      "image/png": "[encoded data removed]",
      "text/plain": [
       "<Figure size 432x288 with 1 Axes>"
      ]
     },
     "metadata": {
      "needs_background": "light"
     },
     "output_type": "display_data"
    }
   ],
   "source": [
    "# Plot the results\n",
    "import matplotlib.pyplot as plt\n",
    "plt.figure()\n",
    "plt.scatter(X, y, s=20, c=\"darkorange\", label=\"data\")\n",
    "plt.scatter(X_train_reg, y_train_reg_pred, color=\"yellowgreen\", label=\"train\", linewidth=2)\n",
    "plt.scatter(X_test_reg, y_test_reg_pred, color=\"cornflowerblue\", label=\"test\", linewidth=2)\n",
    "plt.xlabel(\"data\")\n",
    "plt.ylabel(\"target\")\n",
    "plt.title(\"Decision Tree Regression\")\n",
    "plt.legend()"
   ]
  },
  {
   "cell_type": "code",
   "execution_count": 24,
   "id": "be61bb3f-2004-4307-be73-47b79addc4ce",
   "metadata": {},
   "outputs": [],
   "source": [
    "max_depth_reg = best_params_reg[\"max_depth\"]"
   ]
  },
  {
   "cell_type": "code",
   "execution_count": 30,
   "id": "59da5ba7-0691-4f5c-9323-dcced83b6523",
   "metadata": {},
   "outputs": [],
   "source": [
    "from sklearn.metrics import mean_squared_error\n",
    "train_mse = mean_squared_error(y_train_reg, y_train_reg_pred)\n",
    "test_mse = mean_squared_error(y_test_reg, y_test_reg_pred)"
   ]
  },
  {
   "cell_type": "code",
   "execution_count": 31,
   "id": "5d103b40-3439-4662-aab6-2312d7ca8b4c",
   "metadata": {},
   "outputs": [
    {
     "data": {
      "text/plain": [
       "[3, 73.63328506249215, 78.48428318172321]"
      ]
     },
     "execution_count": 31,
     "metadata": {},
     "output_type": "execute_result"
    }
   ],
   "source": [
    "mse_tree = [max_depth_reg, train_mse, test_mse]\n",
    "mse_tree"
   ]
  },
  {
   "cell_type": "code",
   "execution_count": 27,
   "id": "d4ce05fb-f751-4d98-af37-8e419052ef34",
   "metadata": {},
   "outputs": [],
   "source": [
    "with open('mse_tree.pkl', 'wb') as fp:\n",
    "    pickle.dump(mse_tree, fp)"
   ]
  }
 ],
 "metadata": {
  "kernelspec": {
   "display_name": "Python 3",
   "language": "python",
   "name": "python3"
  },
  "language_info": {
   "codemirror_mode": {
    "name": "ipython",
    "version": 3
   },
   "file_extension": ".py",
   "mimetype": "text/x-python",
   "name": "python",
   "nbconvert_exporter": "python",
   "pygments_lexer": "ipython3",
   "version": "3.8.2"
  }
 },
 "nbformat": 4,
 "nbformat_minor": 5
}
