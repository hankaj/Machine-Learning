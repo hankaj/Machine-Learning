{
 "cells": [
  {
   "cell_type": "code",
   "execution_count": 1,
   "id": "bbf5b09e-f137-4a9a-9063-c473ad321504",
   "metadata": {},
   "outputs": [],
   "source": [
    "from sklearn import datasets\n",
    "data_breast_cancer = datasets.load_breast_cancer(as_frame=True)"
   ]
  },
  {
   "cell_type": "code",
   "execution_count": 4,
   "id": "594dff3e-85f4-4e9e-a181-7b82ada8592d",
   "metadata": {},
   "outputs": [],
   "source": [
    "X = data_breast_cancer[\"data\"]\n",
    "y = data_breast_cancer[\"target\"]"
   ]
  },
  {
   "cell_type": "code",
   "execution_count": 10,
   "id": "1336a3bc-258c-415a-a64f-99c99bee82f8",
   "metadata": {},
   "outputs": [],
   "source": [
    "from sklearn.model_selection import train_test_split\n",
    "X_train, X_test, y_train, y_test = train_test_split(X, y, test_size=0.2)"
   ]
  },
  {
   "cell_type": "code",
   "execution_count": 7,
   "id": "b39a809d-0c17-466a-89b2-99d824e47946",
   "metadata": {},
   "outputs": [],
   "source": [
    "from sklearn.tree import DecisionTreeClassifier\n",
    "tree_clf = DecisionTreeClassifier()"
   ]
  },
  {
   "cell_type": "code",
   "execution_count": 8,
   "id": "6ae94d96-5fed-4326-8424-6443aa7ff2c4",
   "metadata": {},
   "outputs": [],
   "source": [
    "from sklearn.linear_model import LogisticRegression\n",
    "log_clf = LogisticRegression()"
   ]
  },
  {
   "cell_type": "code",
   "execution_count": 9,
   "id": "a438fb11-63cf-451e-8228-19d650f6f7ae",
   "metadata": {},
   "outputs": [],
   "source": [
    "from sklearn.neighbors import KNeighborsClassifier\n",
    "knn_clf = KNeighborsClassifier()"
   ]
  },
  {
   "cell_type": "code",
   "execution_count": 12,
   "id": "5f912d8b-3a9b-4249-a165-50c01ea36c33",
   "metadata": {},
   "outputs": [],
   "source": [
    "from sklearn.ensemble import VotingClassifier\n",
    "voting_clf_hard = VotingClassifier(estimators=[('tr', tree_clf), ('lr', log_clf), ('knn', knn_clf)], voting='hard')\n",
    "voting_clf_soft = VotingClassifier(estimators=[('tr', tree_clf), ('lr', log_clf), ('knn', knn_clf)], voting='soft')"
   ]
  },
  {
   "cell_type": "code",
   "execution_count": 13,
   "id": "c7f89736-6de4-454f-bdf3-fd5bb8919784",
   "metadata": {},
   "outputs": [],
   "source": [
    "X_train_bc = X_train[[\"mean texture\", \"mean symmetry\"]]\n",
    "X_test_bc = X_test[[\"mean texture\", \"mean symmetry\"]]"
   ]
  },
  {
   "cell_type": "code",
   "execution_count": 25,
   "id": "e31f4933-77a8-408c-8f42-7ce65529d9f0",
   "metadata": {},
   "outputs": [],
   "source": [
    "acc_vote = []"
   ]
  },
  {
   "cell_type": "code",
   "execution_count": 26,
   "id": "0de16b0d-b011-4833-ae58-bc6a6ef3d04d",
   "metadata": {},
   "outputs": [],
   "source": [
    "from sklearn.metrics import accuracy_score\n",
    "for clf in (tree_clf, log_clf, knn_clf, voting_clf_hard, voting_clf_soft):\n",
    "    clf.fit(X_train_bc, y_train)\n",
    "    y_pred_train = clf.predict(X_train_bc)\n",
    "    y_pred_test = clf.predict(X_test_bc)\n",
    "    acc_train = accuracy_score(y_train, y_pred_train)\n",
    "    acc_test = accuracy_score(y_test, y_pred_test)\n",
    "    acc_vote.append((acc_train, acc_test))"
   ]
  },
  {
   "cell_type": "code",
   "execution_count": 23,
   "id": "14976527-f9b6-47cd-9246-d7df8f98502d",
   "metadata": {},
   "outputs": [
    {
     "data": {
      "text/plain": [
       "[DecisionTreeClassifier(),\n",
       " LogisticRegression(),\n",
       " KNeighborsClassifier(),\n",
       " VotingClassifier(estimators=[('tr', DecisionTreeClassifier()),\n",
       "                              ('lr', LogisticRegression()),\n",
       "                              ('knn', KNeighborsClassifier())]),\n",
       " VotingClassifier(estimators=[('tr', DecisionTreeClassifier()),\n",
       "                              ('lr', LogisticRegression()),\n",
       "                              ('knn', KNeighborsClassifier())],\n",
       "                  voting='soft')]"
      ]
     },
     "execution_count": 23,
     "metadata": {},
     "output_type": "execute_result"
    }
   ],
   "source": [
    "clfs_vote = [tree_clf, log_clf, knn_clf, voting_clf_hard, voting_clf_soft]\n",
    "clfs_vote"
   ]
  },
  {
   "cell_type": "code",
   "execution_count": 27,
   "id": "37b259b1-5a2c-4dbb-ac5a-40dcb6d2916d",
   "metadata": {},
   "outputs": [
    {
     "data": {
      "text/plain": [
       "[(1.0, 0.7456140350877193),\n",
       " (0.6989010989010989, 0.7543859649122807),\n",
       " (0.7582417582417582, 0.7105263157894737),\n",
       " (0.8285714285714286, 0.7368421052631579),\n",
       " (0.9626373626373627, 0.7543859649122807)]"
      ]
     },
     "execution_count": 27,
     "metadata": {},
     "output_type": "execute_result"
    }
   ],
   "source": [
    "acc_vote"
   ]
  },
  {
   "cell_type": "code",
   "execution_count": 28,
   "id": "6a3029f8-d3af-44f7-b716-32cb420e2447",
   "metadata": {},
   "outputs": [],
   "source": [
    "import pickle\n",
    "with open('acc_vote.pkl', 'wb') as fp:\n",
    "    pickle.dump(acc_vote, fp)"
   ]
  },
  {
   "cell_type": "code",
   "execution_count": 29,
   "id": "2cdbc18a-af04-43bf-a9cf-f57d1beb12b3",
   "metadata": {},
   "outputs": [],
   "source": [
    "with open('vote.pkl', 'wb') as fp:\n",
    "    pickle.dump(clfs_vote, fp)"
   ]
  },
  {
   "cell_type": "code",
   "execution_count": 31,
   "id": "c3c65220-32b3-4752-8c92-6b2e42b38fa5",
   "metadata": {},
   "outputs": [],
   "source": [
    "from sklearn.ensemble import BaggingClassifier\n",
    "from sklearn.tree import DecisionTreeClassifier\n",
    "\n",
    "bag_clf = BaggingClassifier(DecisionTreeClassifier(), n_estimators=30, bootstrap=True)\n",
    "bag_clf_05 = BaggingClassifier(DecisionTreeClassifier(), max_samples=0.5, n_estimators=30, bootstrap=True)\n",
    "past_clf = BaggingClassifier(DecisionTreeClassifier(), n_estimators=30, bootstrap=False)\n",
    "past_clf_05 = BaggingClassifier(DecisionTreeClassifier(), max_samples=0.5, n_estimators=30, bootstrap=False)"
   ]
  },
  {
   "cell_type": "code",
   "execution_count": 32,
   "id": "8b8ecde7-a6c2-4745-b5c6-caa8cfb00e4e",
   "metadata": {},
   "outputs": [],
   "source": [
    "from sklearn.ensemble import RandomForestClassifier\n",
    "rf_clf = RandomForestClassifier(n_estimators=30)"
   ]
  },
  {
   "cell_type": "code",
   "execution_count": 33,
   "id": "4b963a93-e777-4fa1-b2cb-7b3aefd3c668",
   "metadata": {},
   "outputs": [],
   "source": [
    "from sklearn.ensemble import AdaBoostClassifier\n",
    "ab_clf = AdaBoostClassifier(n_estimators=30)"
   ]
  },
  {
   "cell_type": "code",
   "execution_count": 35,
   "id": "975d9f13-58f8-4c65-bc87-3497b5d00905",
   "metadata": {},
   "outputs": [],
   "source": [
    "from sklearn.ensemble import GradientBoostingClassifier\n",
    "gb_clf = GradientBoostingClassifier(n_estimators=30)"
   ]
  },
  {
   "cell_type": "code",
   "execution_count": 37,
   "id": "a2a41cbc-2d1d-464f-aa49-2493cf28ce3d",
   "metadata": {},
   "outputs": [],
   "source": [
    "acc_bag = []"
   ]
  },
  {
   "cell_type": "code",
   "execution_count": 38,
   "id": "c9a01b6b-1efa-4d48-83a4-17c307d8f56a",
   "metadata": {},
   "outputs": [],
   "source": [
    "for clf in (bag_clf, bag_clf_05, past_clf, past_clf_05, rf_clf, ab_clf, gb_clf):\n",
    "    clf.fit(X_train_bc, y_train)\n",
    "    y_pred_train = clf.predict(X_train_bc)\n",
    "    y_pred_test = clf.predict(X_test_bc)\n",
    "    acc_train = accuracy_score(y_train, y_pred_train)\n",
    "    acc_test = accuracy_score(y_test, y_pred_test)\n",
    "    acc_bag.append((acc_train, acc_test))"
   ]
  },
  {
   "cell_type": "code",
   "execution_count": 39,
   "id": "857ee176-b090-4cdc-89c6-057336fdb79d",
   "metadata": {},
   "outputs": [],
   "source": [
    "clfs_bag = (bag_clf, bag_clf_05, past_clf, past_clf_05, rf_clf, ab_clf, gb_clf)"
   ]
  },
  {
   "cell_type": "code",
   "execution_count": 40,
   "id": "4f418427-e036-4faf-94b6-9a8e6cc77bfa",
   "metadata": {},
   "outputs": [
    {
     "data": {
      "text/plain": [
       "[(0.9956043956043956, 0.7982456140350878),\n",
       " (0.9186813186813186, 0.8333333333333334),\n",
       " (1.0, 0.7456140350877193),\n",
       " (0.9736263736263736, 0.8157894736842105),\n",
       " (1.0, 0.7631578947368421),\n",
       " (0.7868131868131868, 0.8245614035087719),\n",
       " (0.7978021978021979, 0.8070175438596491)]"
      ]
     },
     "execution_count": 40,
     "metadata": {},
     "output_type": "execute_result"
    }
   ],
   "source": [
    "acc_bag"
   ]
  },
  {
   "cell_type": "code",
   "execution_count": 41,
   "id": "7e0f0a20-1bd9-4d1e-ba53-1f80b47aba7e",
   "metadata": {},
   "outputs": [
    {
     "data": {
      "text/plain": [
       "(BaggingClassifier(base_estimator=DecisionTreeClassifier(), n_estimators=30),\n",
       " BaggingClassifier(base_estimator=DecisionTreeClassifier(), max_samples=0.5,\n",
       "                   n_estimators=30),\n",
       " BaggingClassifier(base_estimator=DecisionTreeClassifier(), bootstrap=False,\n",
       "                   n_estimators=30),\n",
       " BaggingClassifier(base_estimator=DecisionTreeClassifier(), bootstrap=False,\n",
       "                   max_samples=0.5, n_estimators=30),\n",
       " RandomForestClassifier(n_estimators=30),\n",
       " AdaBoostClassifier(n_estimators=30),\n",
       " GradientBoostingClassifier(n_estimators=30))"
      ]
     },
     "execution_count": 41,
     "metadata": {},
     "output_type": "execute_result"
    }
   ],
   "source": [
    "clfs_bag"
   ]
  },
  {
   "cell_type": "code",
   "execution_count": 42,
   "id": "e401e275-7c03-474a-841b-979874ec6daf",
   "metadata": {},
   "outputs": [],
   "source": [
    "with open('acc_bag.pkl', 'wb') as fp:\n",
    "    pickle.dump(acc_bag, fp)"
   ]
  },
  {
   "cell_type": "code",
   "execution_count": 43,
   "id": "721b3508-4e68-4b12-84b0-5fa995a65980",
   "metadata": {},
   "outputs": [],
   "source": [
    "with open('bag.pkl', 'wb') as fp:\n",
    "    pickle.dump(clfs_bag, fp)"
   ]
  },
  {
   "cell_type": "code",
   "execution_count": 44,
   "id": "ff37c41f-18f6-42cc-a086-42bc66f0a3f3",
   "metadata": {},
   "outputs": [],
   "source": [
    "fea_clf = BaggingClassifier(DecisionTreeClassifier(), n_estimators=30, max_samples=0.5, max_features=2, bootstrap_features=False, bootstrap=True)"
   ]
  },
  {
   "cell_type": "code",
   "execution_count": 45,
   "id": "56404ad0-2342-46d2-a09b-02e50d13ff3c",
   "metadata": {},
   "outputs": [],
   "source": [
    "fea_clf.fit(X_train, y_train)\n",
    "y_pred_train = fea_clf.predict(X_train)\n",
    "y_pred_test = fea_clf.predict(X_test)\n",
    "acc_train = accuracy_score(y_train, y_pred_train)\n",
    "acc_test = accuracy_score(y_test, y_pred_test)"
   ]
  },
  {
   "cell_type": "code",
   "execution_count": null,
   "id": "44cba795-114a-488d-b014-f0ac1c68864e",
   "metadata": {},
   "outputs": [],
   "source": [
    "acc_fea = "
   ]
  }
 ],
 "metadata": {
  "kernelspec": {
   "display_name": "Python 3 (ipykernel)",
   "language": "python",
   "name": "python3"
  },
  "language_info": {
   "codemirror_mode": {
    "name": "ipython",
    "version": 3
   },
   "file_extension": ".py",
   "mimetype": "text/x-python",
   "name": "python",
   "nbconvert_exporter": "python",
   "pygments_lexer": "ipython3",
   "version": "3.9.10"
  }
 },
 "nbformat": 4,
 "nbformat_minor": 5
}
