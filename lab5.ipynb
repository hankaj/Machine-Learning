{
 "cells": [
  {
   "cell_type": "code",
   "execution_count": 1,
   "id": "bcab1b3f-f4d0-49f7-a8c4-e7a3cd0a667f",
   "metadata": {},
   "outputs": [],
   "source": [
    "from sklearn import datasets\n",
    "data_breast_cancer = datasets.load_breast_cancer(as_frame=True)"
   ]
  },
  {
   "cell_type": "code",
   "execution_count": 2,
   "id": "369d40f9-817d-42dd-b67e-5d88de43d885",
   "metadata": {},
   "outputs": [
    {
     "data": {
      "text/plain": [
       "<AxesSubplot:xlabel='x', ylabel='y'>"
      ]
     },
     "execution_count": 2,
     "metadata": {},
     "output_type": "execute_result"
    },
    {
     "data": {
      "image/png": "[encoded data removed]",
      "text/plain": [
       "<Figure size 432x288 with 1 Axes>"
      ]
     },
     "metadata": {
      "needs_background": "light"
     },
     "output_type": "display_data"
    }
   ],
   "source": [
    "import numpy as np\n",
    "import pandas as pd\n",
    "size = 300\n",
    "X = np.random.rand(size)*5-2.5\n",
    "w4, w3, w2, w1, w0 = 1, 2, 1, -4, 2\n",
    "y = w4*(X**4) + w3*(X**3) + w2*(X**2) + w1*X + w0 + np.random.randn(size)*8-4\n",
    "df = pd.DataFrame({'x': X, 'y': y})\n",
    "df.plot.scatter(x='x',y='y')"
   ]
  },
  {
   "cell_type": "code",
   "execution_count": 3,
   "id": "e4f2d9a5-2be4-4431-8913-95dbef19702a",
   "metadata": {},
   "outputs": [
    {
     "data": {
      "text/html": [
       "<div>\n",
       "<style scoped>\n",
       "    .dataframe tbody tr th:only-of-type {\n",
       "        vertical-align: middle;\n",
       "    }\n",
       "\n",
       "    .dataframe tbody tr th {\n",
       "        vertical-align: top;\n",
       "    }\n",
       "\n",
       "    .dataframe thead th {\n",
       "        text-align: right;\n",
       "    }\n",
       "</style>\n",
       "<table border=\"1\" class=\"dataframe\">\n",
       "  <thead>\n",
       "    <tr style=\"text-align: right;\">\n",
       "      <th></th>\n",
       "      <th>mean texture</th>\n",
       "      <th>mean symmetry</th>\n",
       "    </tr>\n",
       "  </thead>\n",
       "  <tbody>\n",
       "    <tr>\n",
       "      <th>0</th>\n",
       "      <td>10.38</td>\n",
       "      <td>0.2419</td>\n",
       "    </tr>\n",
       "    <tr>\n",
       "      <th>1</th>\n",
       "      <td>17.77</td>\n",
       "      <td>0.1812</td>\n",
       "    </tr>\n",
       "    <tr>\n",
       "      <th>2</th>\n",
       "      <td>21.25</td>\n",
       "      <td>0.2069</td>\n",
       "    </tr>\n",
       "    <tr>\n",
       "      <th>3</th>\n",
       "      <td>20.38</td>\n",
       "      <td>0.2597</td>\n",
       "    </tr>\n",
       "    <tr>\n",
       "      <th>4</th>\n",
       "      <td>14.34</td>\n",
       "      <td>0.1809</td>\n",
       "    </tr>\n",
       "    <tr>\n",
       "      <th>...</th>\n",
       "      <td>...</td>\n",
       "      <td>...</td>\n",
       "    </tr>\n",
       "    <tr>\n",
       "      <th>564</th>\n",
       "      <td>22.39</td>\n",
       "      <td>0.1726</td>\n",
       "    </tr>\n",
       "    <tr>\n",
       "      <th>565</th>\n",
       "      <td>28.25</td>\n",
       "      <td>0.1752</td>\n",
       "    </tr>\n",
       "    <tr>\n",
       "      <th>566</th>\n",
       "      <td>28.08</td>\n",
       "      <td>0.1590</td>\n",
       "    </tr>\n",
       "    <tr>\n",
       "      <th>567</th>\n",
       "      <td>29.33</td>\n",
       "      <td>0.2397</td>\n",
       "    </tr>\n",
       "    <tr>\n",
       "      <th>568</th>\n",
       "      <td>24.54</td>\n",
       "      <td>0.1587</td>\n",
       "    </tr>\n",
       "  </tbody>\n",
       "</table>\n",
       "<p>569 rows × 2 columns</p>\n",
       "</div>"
      ],
      "text/plain": [
       "     mean texture  mean symmetry\n",
       "0           10.38         0.2419\n",
       "1           17.77         0.1812\n",
       "2           21.25         0.2069\n",
       "3           20.38         0.2597\n",
       "4           14.34         0.1809\n",
       "..            ...            ...\n",
       "564         22.39         0.1726\n",
       "565         28.25         0.1752\n",
       "566         28.08         0.1590\n",
       "567         29.33         0.2397\n",
       "568         24.54         0.1587\n",
       "\n",
       "[569 rows x 2 columns]"
      ]
     },
     "execution_count": 3,
     "metadata": {},
     "output_type": "execute_result"
    }
   ],
   "source": [
    "X_bc = data_breast_cancer[\"data\"][[\"mean texture\", \"mean symmetry\"]]\n",
    "X_bc"
   ]
  },
  {
   "cell_type": "code",
   "execution_count": 4,
   "id": "80e2a777-643c-413b-99fd-39298db8fbba",
   "metadata": {},
   "outputs": [
    {
     "data": {
      "text/plain": [
       "0      0\n",
       "1      0\n",
       "2      0\n",
       "3      0\n",
       "4      0\n",
       "      ..\n",
       "564    0\n",
       "565    0\n",
       "566    0\n",
       "567    0\n",
       "568    1\n",
       "Name: target, Length: 569, dtype: int64"
      ]
     },
     "execution_count": 4,
     "metadata": {},
     "output_type": "execute_result"
    }
   ],
   "source": [
    "y_bc = data_breast_cancer[\"target\"]\n",
    "y_bc"
   ]
  },
  {
   "cell_type": "code",
   "execution_count": 5,
   "id": "3d68a7cc-0f04-48a5-b719-30192c6662db",
   "metadata": {},
   "outputs": [],
   "source": [
    "from sklearn.model_selection import train_test_split\n",
    "X_train_bc, X_test_bc, y_train_bc, y_test_bc = train_test_split(X_bc, y_bc, test_size=0.2)"
   ]
  },
  {
   "cell_type": "code",
   "execution_count": 6,
   "id": "505a4fc5-cca6-4388-b40c-f00e92249fbb",
   "metadata": {},
   "outputs": [],
   "source": [
    "# https://www.kaggle.com/code/faressayah/decision-trees-random-forest-for-beginners/notebook"
   ]
  },
  {
   "cell_type": "code",
   "execution_count": 7,
   "id": "725d7470-05de-4f14-8318-4e263d53a0e5",
   "metadata": {},
   "outputs": [],
   "source": [
    "from sklearn.tree import DecisionTreeClassifier\n",
    "from sklearn.model_selection import GridSearchCV\n",
    "\n",
    "params = {\"max_depth\":(list(range(1, 20)))}"
   ]
  },
  {
   "cell_type": "code",
   "execution_count": 9,
   "id": "641c7a1f-7609-481d-8970-cc392cd083ba",
   "metadata": {},
   "outputs": [
    {
     "name": "stdout",
     "output_type": "stream",
     "text": [
      "Fitting 3 folds for each of 19 candidates, totalling 57 fits\n",
      "Best paramters: {'max_depth': 4})\n"
     ]
    }
   ],
   "source": [
    "tree_clf_bc = DecisionTreeClassifier(random_state=42)\n",
    "tree_cv_bc = GridSearchCV(tree_clf_bc, params, scoring=\"f1\", n_jobs=-1, verbose=1, cv=3)\n",
    "tree_cv_bc.fit(X_train_bc, y_train_bc)\n",
    "best_params_bc = tree_cv_bc.best_params_\n",
    "print(f\"Best paramters: {best_params_bc})\")"
   ]
  },
  {
   "cell_type": "code",
   "execution_count": 10,
   "id": "8e3ed206-9a39-4ff0-bf8e-1e2bc328ddb4",
   "metadata": {},
   "outputs": [
    {
     "data": {
      "text/plain": [
       "DecisionTreeClassifier(max_depth=4)"
      ]
     },
     "execution_count": 10,
     "metadata": {},
     "output_type": "execute_result"
    }
   ],
   "source": [
    "tree_clf_bc = DecisionTreeClassifier(**best_params_bc)\n",
    "tree_clf_bc.fit(X_train_bc, y_train_bc)"
   ]
  },
  {
   "cell_type": "code",
   "execution_count": 11,
   "id": "cc9bb365-318b-4c74-a0ba-290493027185",
   "metadata": {},
   "outputs": [],
   "source": [
    "from sklearn.tree import export_graphviz\n",
    "f = \"bc\"\n",
    "export_graphviz(\n",
    "        tree_clf_bc,\n",
    "        out_file=f,\n",
    "        feature_names=[\"mean texture\", \"mean symmetry\"],\n",
    "        class_names=[str(num)+\", \"+name\n",
    "                     for num,name in\n",
    "                     zip(set(data_breast_cancer[\"target\"]), data_breast_cancer.target_names)],\n",
    "        rounded=True,\n",
    "        filled=True)"
   ]
  },
  {
   "cell_type": "code",
   "execution_count": 12,
   "id": "35189e7c-fa63-4af8-a5af-486800e80c48",
   "metadata": {},
   "outputs": [
    {
     "name": "stdout",
     "output_type": "stream",
     "text": [
      "bc.png\n"
     ]
    }
   ],
   "source": [
    "import graphviz\n",
    "print(graphviz.render('dot', 'png', f))"
   ]
  },
  {
   "cell_type": "code",
   "execution_count": 13,
   "id": "a3308d43-abe1-4d62-8b2e-2212dc22b9d2",
   "metadata": {},
   "outputs": [],
   "source": [
    "y_train_pred_bc = tree_clf_bc.predict(X_train_bc)\n",
    "y_test_pred_bc = tree_clf_bc.predict(X_test_bc)"
   ]
  },
  {
   "cell_type": "code",
   "execution_count": 14,
   "id": "b6bc39f6-3e9b-4747-a15d-01fa5a013806",
   "metadata": {},
   "outputs": [],
   "source": [
    "from sklearn.metrics import accuracy_score, f1_score\n",
    "train_acc_bc = accuracy_score(y_train_bc, y_train_pred_bc)\n",
    "test_acc_bc = accuracy_score(y_test_bc, y_test_pred_bc)\n",
    "train_f1_bc = f1_score(y_train_bc, y_train_pred_bc)\n",
    "test_f1_bc = f1_score(y_test_bc, y_test_pred_bc)"
   ]
  },
  {
   "cell_type": "code",
   "execution_count": 15,
   "id": "4eb3f621-5eb4-4573-b59d-6e2dab5846bf",
   "metadata": {},
   "outputs": [],
   "source": [
    "max_depth = best_params_bc[\"max_depth\"]"
   ]
  },
  {
   "cell_type": "code",
   "execution_count": 16,
   "id": "582900b2-ca32-4bfd-9c5a-3f982fd58592",
   "metadata": {},
   "outputs": [
    {
     "data": {
      "text/plain": [
       "[4,\n",
       " 0.8504983388704319,\n",
       " 0.7887323943661971,\n",
       " 0.8021978021978022,\n",
       " 0.7368421052631579]"
      ]
     },
     "execution_count": 16,
     "metadata": {},
     "output_type": "execute_result"
    }
   ],
   "source": [
    "f1acc_tree = [max_depth, train_f1_bc, test_f1_bc, train_acc_bc, test_acc_bc]\n",
    "f1acc_tree"
   ]
  },
  {
   "cell_type": "code",
   "execution_count": 17,
   "id": "d4b4f201-8a42-4e27-9002-d2a780142925",
   "metadata": {},
   "outputs": [],
   "source": [
    "import pickle\n",
    "with open('f1acc_tree.pkl', 'wb') as fp:\n",
    "    pickle.dump(f1acc_tree, fp)"
   ]
  },
  {
   "cell_type": "code",
   "execution_count": 18,
   "id": "bd151d86-231b-4581-9288-c50ba0d76c7e",
   "metadata": {},
   "outputs": [],
   "source": [
    "X_train, X_test, y_train, y_test = train_test_split(X, y, test_size=0.2)"
   ]
  },
  {
   "cell_type": "code",
   "execution_count": 19,
   "id": "e6a0076e-9d0d-49a0-8735-ad9aaae997e4",
   "metadata": {},
   "outputs": [],
   "source": [
    "from sklearn.metrics import make_scorer, mean_squared_error\n",
    "mse = make_scorer(mean_squared_error,greater_is_better=False)"
   ]
  },
  {
   "cell_type": "code",
   "execution_count": 20,
   "id": "7b1c73cf-30cd-4b27-bf02-93ea21cd1ca2",
   "metadata": {},
   "outputs": [
    {
     "name": "stdout",
     "output_type": "stream",
     "text": [
      "Fitting 3 folds for each of 19 candidates, totalling 57 fits\n"
     ]
    },
    {
     "name": "stderr",
     "output_type": "stream",
     "text": [
      "/opt/homebrew/Caskroom/miniforge/base/envs/ml/lib/python3.9/site-packages/sklearn/model_selection/_validation.py:372: FitFailedWarning: \n",
      "57 fits failed out of a total of 57.\n",
      "The score on these train-test partitions for these parameters will be set to nan.\n",
      "If these failures are not expected, you can try to debug them by setting error_score='raise'.\n",
      "\n",
      "Below are more details about the failures:\n",
      "--------------------------------------------------------------------------------\n",
      "19 fits failed with the following error:\n",
      "Traceback (most recent call last):\n",
      "  File \"/opt/homebrew/Caskroom/miniforge/base/envs/ml/lib/python3.9/site-packages/sklearn/model_selection/_validation.py\", line 680, in _fit_and_score\n",
      "    estimator.fit(X_train, y_train, **fit_params)\n",
      "  File \"/opt/homebrew/Caskroom/miniforge/base/envs/ml/lib/python3.9/site-packages/sklearn/tree/_classes.py\", line 937, in fit\n",
      "    super().fit(\n",
      "  File \"/opt/homebrew/Caskroom/miniforge/base/envs/ml/lib/python3.9/site-packages/sklearn/tree/_classes.py\", line 165, in fit\n",
      "    X, y = self._validate_data(\n",
      "  File \"/opt/homebrew/Caskroom/miniforge/base/envs/ml/lib/python3.9/site-packages/sklearn/base.py\", line 578, in _validate_data\n",
      "    X = check_array(X, **check_X_params)\n",
      "  File \"/opt/homebrew/Caskroom/miniforge/base/envs/ml/lib/python3.9/site-packages/sklearn/utils/validation.py\", line 769, in check_array\n",
      "    raise ValueError(\n",
      "ValueError: Expected 2D array, got 1D array instead:\n",
      "array=[ 0.00719334  1.8385797   1.9647963   1.0782388   2.010526   -1.6374959\n",
      "  1.444118    2.1763651   1.212402   -2.1227953  -1.9887549   2.4867256\n",
      "  2.0757792   1.8376223  -0.29565963 -0.38090274  0.19981425 -1.3874066\n",
      " -1.6318178  -0.6697228   1.6362273   0.06990864  0.2576135   0.5541623\n",
      " -1.4256097   2.0836775  -2.037228    1.9188322   0.9927959   2.4895675\n",
      " -1.2140377   2.1506557   1.9998108   1.1518302  -0.04426834 -1.9293556\n",
      " -0.55082905 -0.84749484  1.45796     0.92895687 -2.4660413  -0.29335678\n",
      "  0.22225848 -0.35273072 -2.2298572   0.68430215 -1.4535967  -1.6150956\n",
      " -2.413024   -0.815005   -1.3923616  -2.1333709  -1.8963593  -0.8158312\n",
      " -0.23684287  0.6610083   0.5745751   1.9024414  -0.19785939  1.4712594\n",
      "  0.24048784 -0.37283942 -1.8679992   2.059633    0.46448004  2.4622977\n",
      "  1.4138707  -2.1658647  -1.4832482   0.20560777 -0.26347172 -0.49067292\n",
      "  0.11807678  0.6477954   1.8043294   1.65443    -1.0314245   1.3881512\n",
      "  2.089801   -1.858093    0.81192154 -2.3733783   1.2833385   1.3710874\n",
      "  1.4257141  -0.14959155 -0.05231573 -2.0948367  -2.4685926   2.3701935\n",
      "  1.4016827  -1.1028659  -0.85566944  0.29987153 -0.8624631   1.9469858\n",
      "  0.22130908  1.7252778   0.98068047  0.22996357  1.3031042   0.07392757\n",
      "  1.4290748   0.03133488 -0.91755587  1.7489192  -1.2414199  -0.06347088\n",
      " -1.6269615  -1.1991559  -0.2423617  -0.27031612 -2.2811599   2.4860594\n",
      " -0.13595006 -0.14511923 -0.593659    0.346839    0.7082605  -1.7260473\n",
      "  2.4574807   0.60547906  2.3596437   0.58690333  0.24371095  2.1666222\n",
      "  2.0110695  -0.7107077   1.7814107   0.9004292  -2.0006082   0.04554735\n",
      "  0.905199    1.87092    -1.7285875  -0.02425644 -0.11632138 -0.38232574\n",
      " -0.9683627   0.9992879  -2.1973774   0.8338926   0.5482251  -0.79323775\n",
      " -2.3050601  -2.296725    2.4946206  -1.8265818   0.4748568   1.5295112\n",
      " -2.0626497  -2.3659098  -0.3715748   2.1006033  -0.22688149 -2.2296097\n",
      " -2.2791257   0.68254364  0.3860435  -0.6569063 ].\n",
      "Reshape your data either using array.reshape(-1, 1) if your data has a single feature or array.reshape(1, -1) if it contains a single sample.\n",
      "\n",
      "--------------------------------------------------------------------------------\n",
      "19 fits failed with the following error:\n",
      "Traceback (most recent call last):\n",
      "  File \"/opt/homebrew/Caskroom/miniforge/base/envs/ml/lib/python3.9/site-packages/sklearn/model_selection/_validation.py\", line 680, in _fit_and_score\n",
      "    estimator.fit(X_train, y_train, **fit_params)\n",
      "  File \"/opt/homebrew/Caskroom/miniforge/base/envs/ml/lib/python3.9/site-packages/sklearn/tree/_classes.py\", line 937, in fit\n",
      "    super().fit(\n",
      "  File \"/opt/homebrew/Caskroom/miniforge/base/envs/ml/lib/python3.9/site-packages/sklearn/tree/_classes.py\", line 165, in fit\n",
      "    X, y = self._validate_data(\n",
      "  File \"/opt/homebrew/Caskroom/miniforge/base/envs/ml/lib/python3.9/site-packages/sklearn/base.py\", line 578, in _validate_data\n",
      "    X = check_array(X, **check_X_params)\n",
      "  File \"/opt/homebrew/Caskroom/miniforge/base/envs/ml/lib/python3.9/site-packages/sklearn/utils/validation.py\", line 769, in check_array\n",
      "    raise ValueError(\n",
      "ValueError: Expected 2D array, got 1D array instead:\n",
      "array=[-0.62014914  0.63213074  1.7102488  -0.7255364  -0.41461056  1.5814887\n",
      " -1.2827886  -1.8661332   1.9934331   2.1361775  -2.008295    0.9883315\n",
      "  1.5570018   1.7700692  -2.0188668   1.1583409  -0.15422818 -0.6696189\n",
      " -1.8320376   0.7046981  -1.5401441  -0.36268225  0.40399683  2.1092398\n",
      " -0.6241613   1.0297983  -0.50420916 -0.0650323   0.5105365  -1.8694465\n",
      "  0.04465085 -1.7720138  -2.415057    1.545306    0.45323923  2.0283692\n",
      " -1.4421248  -1.2342478   0.5646683   0.8608684   0.8953915   1.7051569\n",
      "  0.11536562 -2.083293    0.04871304  0.04839397 -0.5435968   1.3972331\n",
      " -2.16149     1.7460005   0.6397304  -1.0900651  -0.58255976 -0.5807163\n",
      "  0.0164777  -2.074922    0.397141   -0.0783271  -0.8333937  -0.13755244\n",
      " -0.06096209  1.6707036   0.50000054  1.7388018   1.5885212  -1.0094461\n",
      " -1.064119    1.4386173   0.39606503  0.76144177 -0.46049374 -2.350496\n",
      "  2.4346635   0.21877478 -0.7538063  -0.51288164 -2.3115823  -0.35864964\n",
      "  0.6918007   2.3874776   0.81192154 -2.3733783   1.2833385   1.3710874\n",
      "  1.4257141  -0.14959155 -0.05231573 -2.0948367  -2.4685926   2.3701935\n",
      "  1.4016827  -1.1028659  -0.85566944  0.29987153 -0.8624631   1.9469858\n",
      "  0.22130908  1.7252778   0.98068047  0.22996357  1.3031042   0.07392757\n",
      "  1.4290748   0.03133488 -0.91755587  1.7489192  -1.2414199  -0.06347088\n",
      " -1.6269615  -1.1991559  -0.2423617  -0.27031612 -2.2811599   2.4860594\n",
      " -0.13595006 -0.14511923 -0.593659    0.346839    0.7082605  -1.7260473\n",
      "  2.4574807   0.60547906  2.3596437   0.58690333  0.24371095  2.1666222\n",
      "  2.0110695  -0.7107077   1.7814107   0.9004292  -2.0006082   0.04554735\n",
      "  0.905199    1.87092    -1.7285875  -0.02425644 -0.11632138 -0.38232574\n",
      " -0.9683627   0.9992879  -2.1973774   0.8338926   0.5482251  -0.79323775\n",
      " -2.3050601  -2.296725    2.4946206  -1.8265818   0.4748568   1.5295112\n",
      " -2.0626497  -2.3659098  -0.3715748   2.1006033  -0.22688149 -2.2296097\n",
      " -2.2791257   0.68254364  0.3860435  -0.6569063 ].\n",
      "Reshape your data either using array.reshape(-1, 1) if your data has a single feature or array.reshape(1, -1) if it contains a single sample.\n",
      "\n",
      "--------------------------------------------------------------------------------\n",
      "19 fits failed with the following error:\n",
      "Traceback (most recent call last):\n",
      "  File \"/opt/homebrew/Caskroom/miniforge/base/envs/ml/lib/python3.9/site-packages/sklearn/model_selection/_validation.py\", line 680, in _fit_and_score\n",
      "    estimator.fit(X_train, y_train, **fit_params)\n",
      "  File \"/opt/homebrew/Caskroom/miniforge/base/envs/ml/lib/python3.9/site-packages/sklearn/tree/_classes.py\", line 937, in fit\n",
      "    super().fit(\n",
      "  File \"/opt/homebrew/Caskroom/miniforge/base/envs/ml/lib/python3.9/site-packages/sklearn/tree/_classes.py\", line 165, in fit\n",
      "    X, y = self._validate_data(\n",
      "  File \"/opt/homebrew/Caskroom/miniforge/base/envs/ml/lib/python3.9/site-packages/sklearn/base.py\", line 578, in _validate_data\n",
      "    X = check_array(X, **check_X_params)\n",
      "  File \"/opt/homebrew/Caskroom/miniforge/base/envs/ml/lib/python3.9/site-packages/sklearn/utils/validation.py\", line 769, in check_array\n",
      "    raise ValueError(\n",
      "ValueError: Expected 2D array, got 1D array instead:\n",
      "array=[-0.62014914  0.63213074  1.7102488  -0.7255364  -0.41461056  1.5814887\n",
      " -1.2827886  -1.8661332   1.9934331   2.1361775  -2.008295    0.9883315\n",
      "  1.5570018   1.7700692  -2.0188668   1.1583409  -0.15422818 -0.6696189\n",
      " -1.8320376   0.7046981  -1.5401441  -0.36268225  0.40399683  2.1092398\n",
      " -0.6241613   1.0297983  -0.50420916 -0.0650323   0.5105365  -1.8694465\n",
      "  0.04465085 -1.7720138  -2.415057    1.545306    0.45323923  2.0283692\n",
      " -1.4421248  -1.2342478   0.5646683   0.8608684   0.8953915   1.7051569\n",
      "  0.11536562 -2.083293    0.04871304  0.04839397 -0.5435968   1.3972331\n",
      " -2.16149     1.7460005   0.6397304  -1.0900651  -0.58255976 -0.5807163\n",
      "  0.0164777  -2.074922    0.397141   -0.0783271  -0.8333937  -0.13755244\n",
      " -0.06096209  1.6707036   0.50000054  1.7388018   1.5885212  -1.0094461\n",
      " -1.064119    1.4386173   0.39606503  0.76144177 -0.46049374 -2.350496\n",
      "  2.4346635   0.21877478 -0.7538063  -0.51288164 -2.3115823  -0.35864964\n",
      "  0.6918007   2.3874776   0.00719334  1.8385797   1.9647963   1.0782388\n",
      "  2.010526   -1.6374959   1.444118    2.1763651   1.212402   -2.1227953\n",
      " -1.9887549   2.4867256   2.0757792   1.8376223  -0.29565963 -0.38090274\n",
      "  0.19981425 -1.3874066  -1.6318178  -0.6697228   1.6362273   0.06990864\n",
      "  0.2576135   0.5541623  -1.4256097   2.0836775  -2.037228    1.9188322\n",
      "  0.9927959   2.4895675  -1.2140377   2.1506557   1.9998108   1.1518302\n",
      " -0.04426834 -1.9293556  -0.55082905 -0.84749484  1.45796     0.92895687\n",
      " -2.4660413  -0.29335678  0.22225848 -0.35273072 -2.2298572   0.68430215\n",
      " -1.4535967  -1.6150956  -2.413024   -0.815005   -1.3923616  -2.1333709\n",
      " -1.8963593  -0.8158312  -0.23684287  0.6610083   0.5745751   1.9024414\n",
      " -0.19785939  1.4712594   0.24048784 -0.37283942 -1.8679992   2.059633\n",
      "  0.46448004  2.4622977   1.4138707  -2.1658647  -1.4832482   0.20560777\n",
      " -0.26347172 -0.49067292  0.11807678  0.6477954   1.8043294   1.65443\n",
      " -1.0314245   1.3881512   2.089801   -1.858093  ].\n",
      "Reshape your data either using array.reshape(-1, 1) if your data has a single feature or array.reshape(1, -1) if it contains a single sample.\n",
      "\n",
      "  warnings.warn(some_fits_failed_message, FitFailedWarning)\n"
     ]
    },
    {
     "ename": "NotFittedError",
     "evalue": "All estimators failed to fit",
     "output_type": "error",
     "traceback": [
      "\u001b[0;31m---------------------------------------------------------------------------\u001b[0m",
      "\u001b[0;31mNotFittedError\u001b[0m                            Traceback (most recent call last)",
      "Input \u001b[0;32mIn [20]\u001b[0m, in \u001b[0;36m<module>\u001b[0;34m\u001b[0m\n\u001b[1;32m      1\u001b[0m tree_clf \u001b[38;5;241m=\u001b[39m DecisionTreeClassifier(random_state\u001b[38;5;241m=\u001b[39m\u001b[38;5;241m42\u001b[39m)\n\u001b[1;32m      2\u001b[0m tree_cv \u001b[38;5;241m=\u001b[39m GridSearchCV(tree_clf, params, scoring\u001b[38;5;241m=\u001b[39mmse, n_jobs\u001b[38;5;241m=\u001b[39m\u001b[38;5;241m-\u001b[39m\u001b[38;5;241m1\u001b[39m, verbose\u001b[38;5;241m=\u001b[39m\u001b[38;5;241m1\u001b[39m, cv\u001b[38;5;241m=\u001b[39m\u001b[38;5;241m3\u001b[39m)\n\u001b[0;32m----> 3\u001b[0m \u001b[43mtree_cv\u001b[49m\u001b[38;5;241;43m.\u001b[39;49m\u001b[43mfit\u001b[49m\u001b[43m(\u001b[49m\u001b[43mX_train\u001b[49m\u001b[43m,\u001b[49m\u001b[43m \u001b[49m\u001b[43my_train\u001b[49m\u001b[43m)\u001b[49m\n\u001b[1;32m      4\u001b[0m best_params \u001b[38;5;241m=\u001b[39m tree_cv\u001b[38;5;241m.\u001b[39mbest_params_\n\u001b[1;32m      5\u001b[0m \u001b[38;5;28mprint\u001b[39m(\u001b[38;5;124mf\u001b[39m\u001b[38;5;124m\"\u001b[39m\u001b[38;5;124mBest paramters: \u001b[39m\u001b[38;5;132;01m{\u001b[39;00mbest_params\u001b[38;5;132;01m}\u001b[39;00m\u001b[38;5;124m)\u001b[39m\u001b[38;5;124m\"\u001b[39m)\n",
      "File \u001b[0;32m/opt/homebrew/Caskroom/miniforge/base/envs/ml/lib/python3.9/site-packages/sklearn/model_selection/_search.py:891\u001b[0m, in \u001b[0;36mBaseSearchCV.fit\u001b[0;34m(self, X, y, groups, **fit_params)\u001b[0m\n\u001b[1;32m    885\u001b[0m     results \u001b[38;5;241m=\u001b[39m \u001b[38;5;28mself\u001b[39m\u001b[38;5;241m.\u001b[39m_format_results(\n\u001b[1;32m    886\u001b[0m         all_candidate_params, n_splits, all_out, all_more_results\n\u001b[1;32m    887\u001b[0m     )\n\u001b[1;32m    889\u001b[0m     \u001b[38;5;28;01mreturn\u001b[39;00m results\n\u001b[0;32m--> 891\u001b[0m \u001b[38;5;28;43mself\u001b[39;49m\u001b[38;5;241;43m.\u001b[39;49m\u001b[43m_run_search\u001b[49m\u001b[43m(\u001b[49m\u001b[43mevaluate_candidates\u001b[49m\u001b[43m)\u001b[49m\n\u001b[1;32m    893\u001b[0m \u001b[38;5;66;03m# multimetric is determined here because in the case of a callable\u001b[39;00m\n\u001b[1;32m    894\u001b[0m \u001b[38;5;66;03m# self.scoring the return type is only known after calling\u001b[39;00m\n\u001b[1;32m    895\u001b[0m first_test_score \u001b[38;5;241m=\u001b[39m all_out[\u001b[38;5;241m0\u001b[39m][\u001b[38;5;124m\"\u001b[39m\u001b[38;5;124mtest_scores\u001b[39m\u001b[38;5;124m\"\u001b[39m]\n",
      "File \u001b[0;32m/opt/homebrew/Caskroom/miniforge/base/envs/ml/lib/python3.9/site-packages/sklearn/model_selection/_search.py:1392\u001b[0m, in \u001b[0;36mGridSearchCV._run_search\u001b[0;34m(self, evaluate_candidates)\u001b[0m\n\u001b[1;32m   1390\u001b[0m \u001b[38;5;28;01mdef\u001b[39;00m \u001b[38;5;21m_run_search\u001b[39m(\u001b[38;5;28mself\u001b[39m, evaluate_candidates):\n\u001b[1;32m   1391\u001b[0m     \u001b[38;5;124;03m\"\"\"Search all candidates in param_grid\"\"\"\u001b[39;00m\n\u001b[0;32m-> 1392\u001b[0m     \u001b[43mevaluate_candidates\u001b[49m\u001b[43m(\u001b[49m\u001b[43mParameterGrid\u001b[49m\u001b[43m(\u001b[49m\u001b[38;5;28;43mself\u001b[39;49m\u001b[38;5;241;43m.\u001b[39;49m\u001b[43mparam_grid\u001b[49m\u001b[43m)\u001b[49m\u001b[43m)\u001b[49m\n",
      "File \u001b[0;32m/opt/homebrew/Caskroom/miniforge/base/envs/ml/lib/python3.9/site-packages/sklearn/model_selection/_search.py:875\u001b[0m, in \u001b[0;36mBaseSearchCV.fit.<locals>.evaluate_candidates\u001b[0;34m(candidate_params, cv, more_results)\u001b[0m\n\u001b[1;32m    870\u001b[0m \u001b[38;5;66;03m# For callable self.scoring, the return type is only know after\u001b[39;00m\n\u001b[1;32m    871\u001b[0m \u001b[38;5;66;03m# calling. If the return type is a dictionary, the error scores\u001b[39;00m\n\u001b[1;32m    872\u001b[0m \u001b[38;5;66;03m# can now be inserted with the correct key. The type checking\u001b[39;00m\n\u001b[1;32m    873\u001b[0m \u001b[38;5;66;03m# of out will be done in `_insert_error_scores`.\u001b[39;00m\n\u001b[1;32m    874\u001b[0m \u001b[38;5;28;01mif\u001b[39;00m callable(\u001b[38;5;28mself\u001b[39m\u001b[38;5;241m.\u001b[39mscoring):\n\u001b[0;32m--> 875\u001b[0m     \u001b[43m_insert_error_scores\u001b[49m\u001b[43m(\u001b[49m\u001b[43mout\u001b[49m\u001b[43m,\u001b[49m\u001b[43m \u001b[49m\u001b[38;5;28;43mself\u001b[39;49m\u001b[38;5;241;43m.\u001b[39;49m\u001b[43merror_score\u001b[49m\u001b[43m)\u001b[49m\n\u001b[1;32m    877\u001b[0m all_candidate_params\u001b[38;5;241m.\u001b[39mextend(candidate_params)\n\u001b[1;32m    878\u001b[0m all_out\u001b[38;5;241m.\u001b[39mextend(out)\n",
      "File \u001b[0;32m/opt/homebrew/Caskroom/miniforge/base/envs/ml/lib/python3.9/site-packages/sklearn/model_selection/_validation.py:331\u001b[0m, in \u001b[0;36m_insert_error_scores\u001b[0;34m(results, error_score)\u001b[0m\n\u001b[1;32m    328\u001b[0m         successful_score \u001b[38;5;241m=\u001b[39m result[\u001b[38;5;124m\"\u001b[39m\u001b[38;5;124mtest_scores\u001b[39m\u001b[38;5;124m\"\u001b[39m]\n\u001b[1;32m    330\u001b[0m \u001b[38;5;28;01mif\u001b[39;00m successful_score \u001b[38;5;129;01mis\u001b[39;00m \u001b[38;5;28;01mNone\u001b[39;00m:\n\u001b[0;32m--> 331\u001b[0m     \u001b[38;5;28;01mraise\u001b[39;00m NotFittedError(\u001b[38;5;124m\"\u001b[39m\u001b[38;5;124mAll estimators failed to fit\u001b[39m\u001b[38;5;124m\"\u001b[39m)\n\u001b[1;32m    333\u001b[0m \u001b[38;5;28;01mif\u001b[39;00m \u001b[38;5;28misinstance\u001b[39m(successful_score, \u001b[38;5;28mdict\u001b[39m):\n\u001b[1;32m    334\u001b[0m     formatted_error \u001b[38;5;241m=\u001b[39m {name: error_score \u001b[38;5;28;01mfor\u001b[39;00m name \u001b[38;5;129;01min\u001b[39;00m successful_score}\n",
      "\u001b[0;31mNotFittedError\u001b[0m: All estimators failed to fit"
     ]
    }
   ],
   "source": [
    "tree_clf = DecisionTreeClassifier(random_state=42)\n",
    "tree_cv = GridSearchCV(tree_clf, params, scoring=mse, n_jobs=-1, verbose=1, cv=3)\n",
    "tree_cv.fit(X_train, y_train)\n",
    "best_params = tree_cv.best_params_\n",
    "print(f\"Best paramters: {best_params})\")"
   ]
  },
  {
   "cell_type": "code",
   "execution_count": null,
   "id": "612fdfd7-d109-4d9c-8afd-c4e11eeb3e86",
   "metadata": {},
   "outputs": [],
   "source": [
    "tree_clf = DecisionTreeClassifier(**best_params)\n",
    "tree_clf.fit(X_train, y_train)"
   ]
  },
  {
   "cell_type": "code",
   "execution_count": null,
   "id": "12f91f84-2626-49b6-a57b-38afbf94d5ae",
   "metadata": {},
   "outputs": [],
   "source": [
    "df.plot.scatter(x='x',y='y')"
   ]
  },
  {
   "cell_type": "code",
   "execution_count": null,
   "id": "6926dd2b-fbaa-4694-9b53-fdb634d2e8ff",
   "metadata": {},
   "outputs": [],
   "source": [
    "y_train_pred = tree_clf.predict(X_train)\n",
    "y_test_pred = tree_clf.predict(X_test)"
   ]
  }
 ],
 "metadata": {
  "kernelspec": {
   "display_name": "Python 3 (ipykernel)",
   "language": "python",
   "name": "python3"
  },
  "language_info": {
   "codemirror_mode": {
    "name": "ipython",
    "version": 3
   },
   "file_extension": ".py",
   "mimetype": "text/x-python",
   "name": "python",
   "nbconvert_exporter": "python",
   "pygments_lexer": "ipython3",
   "version": "3.9.10"
  }
 },
 "nbformat": 4,
 "nbformat_minor": 5
}
