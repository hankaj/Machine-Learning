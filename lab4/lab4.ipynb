{
 "cells": [
  {
   "cell_type": "code",
   "execution_count": 1,
   "id": "95fdb93f-e6b2-41d6-9078-6d5cbd272211",
   "metadata": {},
   "outputs": [],
   "source": [
    "from sklearn import datasets"
   ]
  },
  {
   "cell_type": "code",
   "execution_count": 2,
   "id": "e58b9094-28be-4bf6-9017-703d02d92ea1",
   "metadata": {},
   "outputs": [],
   "source": [
    "data_breast_cancer = datasets.load_breast_cancer(as_frame=True)"
   ]
  },
  {
   "cell_type": "code",
   "execution_count": 3,
   "id": "2e8a9a73-41b9-4d85-ad13-e6f13512cbb6",
   "metadata": {},
   "outputs": [
    {
     "data": {
      "text/html": [
       "<div>\n",
       "<style scoped>\n",
       "    .dataframe tbody tr th:only-of-type {\n",
       "        vertical-align: middle;\n",
       "    }\n",
       "\n",
       "    .dataframe tbody tr th {\n",
       "        vertical-align: top;\n",
       "    }\n",
       "\n",
       "    .dataframe thead th {\n",
       "        text-align: right;\n",
       "    }\n",
       "</style>\n",
       "<table border=\"1\" class=\"dataframe\">\n",
       "  <thead>\n",
       "    <tr style=\"text-align: right;\">\n",
       "      <th></th>\n",
       "      <th>mean area</th>\n",
       "      <th>mean smoothness</th>\n",
       "    </tr>\n",
       "  </thead>\n",
       "  <tbody>\n",
       "    <tr>\n",
       "      <th>0</th>\n",
       "      <td>1001.0</td>\n",
       "      <td>0.11840</td>\n",
       "    </tr>\n",
       "    <tr>\n",
       "      <th>1</th>\n",
       "      <td>1326.0</td>\n",
       "      <td>0.08474</td>\n",
       "    </tr>\n",
       "    <tr>\n",
       "      <th>2</th>\n",
       "      <td>1203.0</td>\n",
       "      <td>0.10960</td>\n",
       "    </tr>\n",
       "    <tr>\n",
       "      <th>3</th>\n",
       "      <td>386.1</td>\n",
       "      <td>0.14250</td>\n",
       "    </tr>\n",
       "    <tr>\n",
       "      <th>4</th>\n",
       "      <td>1297.0</td>\n",
       "      <td>0.10030</td>\n",
       "    </tr>\n",
       "    <tr>\n",
       "      <th>...</th>\n",
       "      <td>...</td>\n",
       "      <td>...</td>\n",
       "    </tr>\n",
       "    <tr>\n",
       "      <th>564</th>\n",
       "      <td>1479.0</td>\n",
       "      <td>0.11100</td>\n",
       "    </tr>\n",
       "    <tr>\n",
       "      <th>565</th>\n",
       "      <td>1261.0</td>\n",
       "      <td>0.09780</td>\n",
       "    </tr>\n",
       "    <tr>\n",
       "      <th>566</th>\n",
       "      <td>858.1</td>\n",
       "      <td>0.08455</td>\n",
       "    </tr>\n",
       "    <tr>\n",
       "      <th>567</th>\n",
       "      <td>1265.0</td>\n",
       "      <td>0.11780</td>\n",
       "    </tr>\n",
       "    <tr>\n",
       "      <th>568</th>\n",
       "      <td>181.0</td>\n",
       "      <td>0.05263</td>\n",
       "    </tr>\n",
       "  </tbody>\n",
       "</table>\n",
       "<p>569 rows × 2 columns</p>\n",
       "</div>"
      ],
      "text/plain": [
       "     mean area  mean smoothness\n",
       "0       1001.0          0.11840\n",
       "1       1326.0          0.08474\n",
       "2       1203.0          0.10960\n",
       "3        386.1          0.14250\n",
       "4       1297.0          0.10030\n",
       "..         ...              ...\n",
       "564     1479.0          0.11100\n",
       "565     1261.0          0.09780\n",
       "566      858.1          0.08455\n",
       "567     1265.0          0.11780\n",
       "568      181.0          0.05263\n",
       "\n",
       "[569 rows x 2 columns]"
      ]
     },
     "execution_count": 3,
     "metadata": {},
     "output_type": "execute_result"
    }
   ],
   "source": [
    "X_cancer = data_breast_cancer[\"data\"][[\"mean area\", \"mean smoothness\"]]\n",
    "X_cancer"
   ]
  },
  {
   "cell_type": "code",
   "execution_count": 4,
   "id": "9c9f67e5-6e8d-495f-bdd7-d3c98c6c5e6d",
   "metadata": {},
   "outputs": [
    {
     "data": {
      "text/plain": [
       "0      0\n",
       "1      0\n",
       "2      0\n",
       "3      0\n",
       "4      0\n",
       "      ..\n",
       "564    0\n",
       "565    0\n",
       "566    0\n",
       "567    0\n",
       "568    1\n",
       "Name: target, Length: 569, dtype: int64"
      ]
     },
     "execution_count": 4,
     "metadata": {},
     "output_type": "execute_result"
    }
   ],
   "source": [
    "y_cancer = data_breast_cancer[\"target\"]\n",
    "y_cancer"
   ]
  },
  {
   "cell_type": "code",
   "execution_count": 5,
   "id": "8a80735a-5b55-43e0-a3d9-757182ccaf61",
   "metadata": {},
   "outputs": [],
   "source": [
    "import numpy as np\n",
    "data_iris = datasets.load_iris(as_frame=True)\n",
    "X_iris = data_iris[\"data\"][[\"petal length (cm)\", \"petal width (cm)\"]]\n",
    "y_iris = (data_iris[\"target\"] == 2).astype(np.int8)"
   ]
  },
  {
   "cell_type": "code",
   "execution_count": 6,
   "id": "f3bb0388-c1ae-4ba8-b69e-27994927c783",
   "metadata": {},
   "outputs": [
    {
     "data": {
      "text/html": [
       "<div>\n",
       "<style scoped>\n",
       "    .dataframe tbody tr th:only-of-type {\n",
       "        vertical-align: middle;\n",
       "    }\n",
       "\n",
       "    .dataframe tbody tr th {\n",
       "        vertical-align: top;\n",
       "    }\n",
       "\n",
       "    .dataframe thead th {\n",
       "        text-align: right;\n",
       "    }\n",
       "</style>\n",
       "<table border=\"1\" class=\"dataframe\">\n",
       "  <thead>\n",
       "    <tr style=\"text-align: right;\">\n",
       "      <th></th>\n",
       "      <th>petal length (cm)</th>\n",
       "      <th>petal width (cm)</th>\n",
       "    </tr>\n",
       "  </thead>\n",
       "  <tbody>\n",
       "    <tr>\n",
       "      <th>0</th>\n",
       "      <td>1.4</td>\n",
       "      <td>0.2</td>\n",
       "    </tr>\n",
       "    <tr>\n",
       "      <th>1</th>\n",
       "      <td>1.4</td>\n",
       "      <td>0.2</td>\n",
       "    </tr>\n",
       "    <tr>\n",
       "      <th>2</th>\n",
       "      <td>1.3</td>\n",
       "      <td>0.2</td>\n",
       "    </tr>\n",
       "    <tr>\n",
       "      <th>3</th>\n",
       "      <td>1.5</td>\n",
       "      <td>0.2</td>\n",
       "    </tr>\n",
       "    <tr>\n",
       "      <th>4</th>\n",
       "      <td>1.4</td>\n",
       "      <td>0.2</td>\n",
       "    </tr>\n",
       "    <tr>\n",
       "      <th>...</th>\n",
       "      <td>...</td>\n",
       "      <td>...</td>\n",
       "    </tr>\n",
       "    <tr>\n",
       "      <th>145</th>\n",
       "      <td>5.2</td>\n",
       "      <td>2.3</td>\n",
       "    </tr>\n",
       "    <tr>\n",
       "      <th>146</th>\n",
       "      <td>5.0</td>\n",
       "      <td>1.9</td>\n",
       "    </tr>\n",
       "    <tr>\n",
       "      <th>147</th>\n",
       "      <td>5.2</td>\n",
       "      <td>2.0</td>\n",
       "    </tr>\n",
       "    <tr>\n",
       "      <th>148</th>\n",
       "      <td>5.4</td>\n",
       "      <td>2.3</td>\n",
       "    </tr>\n",
       "    <tr>\n",
       "      <th>149</th>\n",
       "      <td>5.1</td>\n",
       "      <td>1.8</td>\n",
       "    </tr>\n",
       "  </tbody>\n",
       "</table>\n",
       "<p>150 rows × 2 columns</p>\n",
       "</div>"
      ],
      "text/plain": [
       "     petal length (cm)  petal width (cm)\n",
       "0                  1.4               0.2\n",
       "1                  1.4               0.2\n",
       "2                  1.3               0.2\n",
       "3                  1.5               0.2\n",
       "4                  1.4               0.2\n",
       "..                 ...               ...\n",
       "145                5.2               2.3\n",
       "146                5.0               1.9\n",
       "147                5.2               2.0\n",
       "148                5.4               2.3\n",
       "149                5.1               1.8\n",
       "\n",
       "[150 rows x 2 columns]"
      ]
     },
     "execution_count": 6,
     "metadata": {},
     "output_type": "execute_result"
    }
   ],
   "source": [
    "X_iris"
   ]
  },
  {
   "cell_type": "code",
   "execution_count": 7,
   "id": "138fccad-3d6b-4d70-8223-5d40a1e72356",
   "metadata": {},
   "outputs": [
    {
     "data": {
      "text/plain": [
       "0      0\n",
       "1      0\n",
       "2      0\n",
       "3      0\n",
       "4      0\n",
       "      ..\n",
       "145    1\n",
       "146    1\n",
       "147    1\n",
       "148    1\n",
       "149    1\n",
       "Name: target, Length: 150, dtype: int8"
      ]
     },
     "execution_count": 7,
     "metadata": {},
     "output_type": "execute_result"
    }
   ],
   "source": [
    "y_iris"
   ]
  },
  {
   "cell_type": "code",
   "execution_count": 8,
   "id": "f14a2773-f5e6-444b-a4d0-1da7c86c91bf",
   "metadata": {},
   "outputs": [],
   "source": [
    "from sklearn.model_selection import train_test_split\n",
    "X_train_cancer, X_test_cancer, y_train_cancer, y_test_cancer = train_test_split(X_cancer, y_cancer, test_size=0.2, random_state=42)"
   ]
  },
  {
   "cell_type": "code",
   "execution_count": 9,
   "id": "5cd8471d-cc00-4324-a431-634a81cfcf27",
   "metadata": {},
   "outputs": [],
   "source": [
    "from sklearn.svm import LinearSVC\n",
    "from sklearn.pipeline import Pipeline\n",
    "from sklearn.preprocessing import StandardScaler\n",
    "svm_cancer = LinearSVC(loss=\"hinge\", random_state=42)\n",
    "svm_cancer_scal = Pipeline([(\"scaler\", StandardScaler()), (\"linear_svc\", LinearSVC(loss=\"hinge\",random_state=42))])"
   ]
  },
  {
   "cell_type": "code",
   "execution_count": 10,
   "id": "e63c9ee4-0d0e-435a-bf59-c9415697d25f",
   "metadata": {},
   "outputs": [
    {
     "name": "stderr",
     "output_type": "stream",
     "text": [
      "/opt/homebrew/Caskroom/miniforge/base/envs/ml/lib/python3.9/site-packages/sklearn/svm/_base.py:1206: ConvergenceWarning: Liblinear failed to converge, increase the number of iterations.\n",
      "  warnings.warn(\n"
     ]
    },
    {
     "data": {
      "text/plain": [
       "LinearSVC(loss='hinge', random_state=42)"
      ]
     },
     "execution_count": 10,
     "metadata": {},
     "output_type": "execute_result"
    }
   ],
   "source": [
    "svm_cancer.fit(X_train_cancer, y_train_cancer)"
   ]
  },
  {
   "cell_type": "code",
   "execution_count": 11,
   "id": "fe8ebb2f-0d97-47f0-87d9-78523297258c",
   "metadata": {},
   "outputs": [
    {
     "data": {
      "text/plain": [
       "Pipeline(steps=[('scaler', StandardScaler()),\n",
       "                ('linear_svc', LinearSVC(loss='hinge', random_state=42))])"
      ]
     },
     "execution_count": 11,
     "metadata": {},
     "output_type": "execute_result"
    }
   ],
   "source": [
    "svm_cancer_scal.fit(X_train_cancer, y_train_cancer)"
   ]
  },
  {
   "cell_type": "code",
   "execution_count": 12,
   "id": "688c9f5a-95fe-4b26-af14-a88800196c9d",
   "metadata": {},
   "outputs": [],
   "source": [
    "y_train_pred_cancer = svm_cancer.predict(X_train_cancer)\n",
    "y_test_pred_cancer = svm_cancer.predict(X_test_cancer)\n",
    "y_train_pred_cancer_scal = svm_cancer_scal.predict(X_train_cancer)\n",
    "y_test_pred_cancer_scal = svm_cancer_scal.predict(X_test_cancer)"
   ]
  },
  {
   "cell_type": "code",
   "execution_count": 13,
   "id": "8ab2049d-4ad3-4779-9607-0a6afb86f6b2",
   "metadata": {},
   "outputs": [],
   "source": [
    "from sklearn.metrics import accuracy_score\n",
    "train_acc_cancer = accuracy_score(y_train_cancer, y_train_pred_cancer)\n",
    "test_acc_cancer = accuracy_score(y_test_cancer, y_test_pred_cancer)\n",
    "train_acc_cancer_scal = accuracy_score(y_train_cancer, y_train_pred_cancer_scal)\n",
    "test_acc_cancer_scal = accuracy_score(y_test_cancer, y_test_pred_cancer_scal)"
   ]
  },
  {
   "cell_type": "code",
   "execution_count": 14,
   "id": "cbbed2fa-e285-4850-aded-1c08f13991f6",
   "metadata": {},
   "outputs": [],
   "source": [
    "bc_acc = [train_acc_cancer, test_acc_cancer, train_acc_cancer_scal, test_acc_cancer_scal]"
   ]
  },
  {
   "cell_type": "code",
   "execution_count": 15,
   "id": "6c759282-70fa-4858-9b21-ba39d9212e3b",
   "metadata": {},
   "outputs": [
    {
     "data": {
      "text/plain": [
       "[0.6285714285714286,\n",
       " 0.6228070175438597,\n",
       " 0.8923076923076924,\n",
       " 0.9298245614035088]"
      ]
     },
     "execution_count": 15,
     "metadata": {},
     "output_type": "execute_result"
    }
   ],
   "source": [
    "bc_acc"
   ]
  },
  {
   "cell_type": "code",
   "execution_count": 16,
   "id": "0e896493-91b3-4e34-a080-f32a0df22731",
   "metadata": {},
   "outputs": [],
   "source": [
    "import pickle\n",
    "with open('bc_acc.pkl', 'wb') as fp:\n",
    "    pickle.dump(bc_acc, fp)"
   ]
  },
  {
   "cell_type": "code",
   "execution_count": 17,
   "id": "a248f8b4-6b9e-4e2a-931a-7e9d81338c0e",
   "metadata": {},
   "outputs": [],
   "source": [
    "X_train_iris, X_test_iris, y_train_iris, y_test_iris = train_test_split(X_iris, y_iris, test_size=0.2, random_state=42)"
   ]
  },
  {
   "cell_type": "code",
   "execution_count": 18,
   "id": "f312b3ac-d8d6-4e30-99b9-dae63d8ae4de",
   "metadata": {},
   "outputs": [],
   "source": [
    "svm_iris = LinearSVC(loss=\"hinge\", random_state=42)\n",
    "svm_iris_scal = Pipeline([(\"scaler\", StandardScaler()), (\"linear_svc\", LinearSVC(loss=\"hinge\",random_state=42))])"
   ]
  },
  {
   "cell_type": "code",
   "execution_count": 19,
   "id": "bb0c7e2e-2ed6-436d-a1a6-1d5e5a5546c9",
   "metadata": {},
   "outputs": [
    {
     "name": "stderr",
     "output_type": "stream",
     "text": [
      "/opt/homebrew/Caskroom/miniforge/base/envs/ml/lib/python3.9/site-packages/sklearn/svm/_base.py:1206: ConvergenceWarning: Liblinear failed to converge, increase the number of iterations.\n",
      "  warnings.warn(\n"
     ]
    },
    {
     "data": {
      "text/plain": [
       "LinearSVC(loss='hinge', random_state=42)"
      ]
     },
     "execution_count": 19,
     "metadata": {},
     "output_type": "execute_result"
    }
   ],
   "source": [
    "svm_iris.fit(X_train_iris, y_train_iris)"
   ]
  },
  {
   "cell_type": "code",
   "execution_count": 20,
   "id": "a93cb0a1-227e-447c-bc17-79c435fcbc7b",
   "metadata": {},
   "outputs": [
    {
     "data": {
      "text/plain": [
       "Pipeline(steps=[('scaler', StandardScaler()),\n",
       "                ('linear_svc', LinearSVC(loss='hinge', random_state=42))])"
      ]
     },
     "execution_count": 20,
     "metadata": {},
     "output_type": "execute_result"
    }
   ],
   "source": [
    "svm_iris_scal.fit(X_train_iris, y_train_iris)"
   ]
  },
  {
   "cell_type": "code",
   "execution_count": 21,
   "id": "a8f025cd-68a1-4e0d-8db1-a62452fac64a",
   "metadata": {},
   "outputs": [],
   "source": [
    "y_train_pred_iris = svm_iris.predict(X_train_iris)\n",
    "y_test_pred_iris = svm_iris.predict(X_test_iris)\n",
    "y_train_pred_iris_scal = svm_iris_scal.predict(X_train_iris)\n",
    "y_test_pred_iris_scal = svm_iris_scal.predict(X_test_iris)"
   ]
  },
  {
   "cell_type": "code",
   "execution_count": 22,
   "id": "cb675ab0-0e80-4dbe-807f-310a1bac0cce",
   "metadata": {},
   "outputs": [],
   "source": [
    "train_acc_iris = accuracy_score(y_train_iris, y_train_pred_iris)\n",
    "test_acc_iris = accuracy_score(y_test_iris, y_test_pred_iris)\n",
    "train_acc_iris_scal = accuracy_score(y_train_iris, y_train_pred_iris_scal)\n",
    "test_acc_iris_scal = accuracy_score(y_test_iris, y_test_pred_iris_scal)"
   ]
  },
  {
   "cell_type": "code",
   "execution_count": 23,
   "id": "edebdde0-38df-49a1-94a9-07ea49e63d67",
   "metadata": {},
   "outputs": [],
   "source": [
    "iris_acc = [train_acc_iris, test_acc_iris, train_acc_iris_scal, test_acc_iris_scal]"
   ]
  },
  {
   "cell_type": "code",
   "execution_count": 24,
   "id": "ea45ed85-bf73-4f78-b524-c03cf71bdb5c",
   "metadata": {},
   "outputs": [
    {
     "data": {
      "text/plain": [
       "[0.9416666666666667, 1.0, 0.9416666666666667, 1.0]"
      ]
     },
     "execution_count": 24,
     "metadata": {},
     "output_type": "execute_result"
    }
   ],
   "source": [
    "iris_acc"
   ]
  },
  {
   "cell_type": "code",
   "execution_count": 25,
   "id": "f8de2042-3e9c-4d28-8f03-213bb2895487",
   "metadata": {},
   "outputs": [],
   "source": [
    "with open('iris_acc.pkl', 'wb') as fp:\n",
    "    pickle.dump(iris_acc, fp)"
   ]
  }
 ],
 "metadata": {
  "kernelspec": {
   "display_name": "Python 3 (ipykernel)",
   "language": "python",
   "name": "python3"
  },
  "language_info": {
   "codemirror_mode": {
    "name": "ipython",
    "version": 3
   },
   "file_extension": ".py",
   "mimetype": "text/x-python",
   "name": "python",
   "nbconvert_exporter": "python",
   "pygments_lexer": "ipython3",
   "version": "3.9.10"
  }
 },
 "nbformat": 4,
 "nbformat_minor": 5
}
