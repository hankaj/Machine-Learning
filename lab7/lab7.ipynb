{
  "cells": [
    {
      "cell_type": "code",
      "execution_count": 1,
      "id": "af2da1e0-69a6-42bf-ae35-cc51ee0f42c6",
      "metadata": {
        "id": "af2da1e0-69a6-42bf-ae35-cc51ee0f42c6"
      },
      "outputs": [],
      "source": [
        "from sklearn.datasets import fetch_openml\n",
        "import numpy as np\n",
        "mnist = fetch_openml('mnist_784', version=1, as_frame=False)\n",
        "mnist.target = mnist.target.astype(np.uint8)\n",
        "X = mnist[\"data\"]\n",
        "y = mnist[\"target\"]"
      ]
    },
    {
      "cell_type": "code",
      "execution_count": 2,
      "id": "0f2778c7-0d15-426e-a39d-9d8db0e0a4cd",
      "metadata": {
        "id": "0f2778c7-0d15-426e-a39d-9d8db0e0a4cd"
      },
      "outputs": [],
      "source": [
        "kmeans = []\n",
        "kmeans_sil = []"
      ]
    },
    {
      "cell_type": "code",
      "execution_count": 3,
      "id": "8a6eefd1-fdeb-42a9-9b4e-db2f94d31cdf",
      "metadata": {
        "id": "8a6eefd1-fdeb-42a9-9b4e-db2f94d31cdf"
      },
      "outputs": [],
      "source": [
        "from sklearn.cluster import KMeans\n",
        "from sklearn.metrics import silhouette_score\n",
        "\n",
        "for i in range(8, 13):\n",
        "    kmeans_i = KMeans(n_clusters=i)\n",
        "    kmeans_i.fit(X)\n",
        "    sil = silhouette_score(X, kmeans_i.labels_)\n",
        "    kmeans.append(kmeans_i)\n",
        "    kmeans_sil.append(sil)"
      ]
    },
    {
      "cell_type": "code",
      "execution_count": 4,
      "id": "dfba71c3-e1d0-4ee0-811b-d4ec1a2ab582",
      "metadata": {
        "colab": {
          "base_uri": "https://localhost:8080/"
        },
        "id": "dfba71c3-e1d0-4ee0-811b-d4ec1a2ab582",
        "outputId": "e77111c2-6264-4dd6-fad1-1808a9e41a26"
      },
      "outputs": [
        {
          "output_type": "stream",
          "name": "stdout",
          "text": [
            "[0.07338485845283446, 0.05681310734673186, 0.0587299713614337, 0.05835714796282286, 0.05816082126680993]\n"
          ]
        }
      ],
      "source": [
        "print(kmeans_sil)"
      ]
    },
    {
      "cell_type": "code",
      "execution_count": 5,
      "id": "f01d08b0-8bd8-404b-aec5-b01fa5053294",
      "metadata": {
        "id": "f01d08b0-8bd8-404b-aec5-b01fa5053294"
      },
      "outputs": [],
      "source": [
        "import pickle\n",
        "with open('kmeans_sil.pkl', 'wb') as fp:\n",
        "    pickle.dump(kmeans_sil, fp)"
      ]
    },
    {
      "cell_type": "code",
      "execution_count": 6,
      "id": "c607f993-90b9-4481-8e18-57f8d34c76c7",
      "metadata": {
        "id": "c607f993-90b9-4481-8e18-57f8d34c76c7"
      },
      "outputs": [],
      "source": [
        "kmeans_10 = kmeans[2]\n",
        "y_pred = kmeans_10.predict(X)"
      ]
    },
    {
      "cell_type": "code",
      "execution_count": 7,
      "id": "0bea22d9-065f-46dc-8cde-877235b7a37e",
      "metadata": {
        "id": "0bea22d9-065f-46dc-8cde-877235b7a37e"
      },
      "outputs": [],
      "source": [
        "from sklearn.metrics import confusion_matrix\n",
        "conf = confusion_matrix(y, y_pred)"
      ]
    },
    {
      "cell_type": "code",
      "execution_count": 8,
      "id": "d84418be-8f60-435a-8b4a-3a21b8e99ef8",
      "metadata": {
        "colab": {
          "base_uri": "https://localhost:8080/"
        },
        "id": "d84418be-8f60-435a-8b4a-3a21b8e99ef8",
        "outputId": "80d0ba40-b357-46de-8d71-004439a33669"
      },
      "outputs": [
        {
          "output_type": "stream",
          "name": "stdout",
          "text": [
            "[[  74  173    7 1260 5041   43    2  290    4    9]\n",
            " [   9    7   10    7    0    6 4293    8 3527   10]\n",
            " [ 205  151   78  239   56  215  427  320  435 4864]\n",
            " [1034   33   46  506   22  186  458 4597   53  206]\n",
            " [  19  170 2192  256    9 3735  182    0  231   30]\n",
            " [1133   70  214 1847   59  426  166 2125  266    7]\n",
            " [  17 4441    4 1926   76   68  205   39   44   56]\n",
            " [  20    4 4405   12   21 2086  377    5  310   53]\n",
            " [4120   54  186  340   37  208  336 1177  315   52]\n",
            " [  89   16 2852   30   50 3456  267   86   92   20]]\n"
          ]
        }
      ],
      "source": [
        "print(conf)"
      ]
    },
    {
      "cell_type": "code",
      "execution_count": 9,
      "id": "db9bc70f-467d-4ca2-95ce-881ae6ce547e",
      "metadata": {
        "colab": {
          "base_uri": "https://localhost:8080/"
        },
        "id": "db9bc70f-467d-4ca2-95ce-881ae6ce547e",
        "outputId": "4e9b90cf-bf65-4631-da74-d66b95292a51"
      },
      "outputs": [
        {
          "output_type": "execute_result",
          "data": {
            "text/plain": [
              "[0, 1, 2, 4, 5, 6, 7, 9]"
            ]
          },
          "metadata": {},
          "execution_count": 9
        }
      ],
      "source": [
        "import numpy as np\n",
        "arg_maxes = list(set(np.argmax(row) for row in conf))\n",
        "kmeans_argmax = sorted(arg_maxes)\n",
        "kmeans_argmax"
      ]
    },
    {
      "cell_type": "code",
      "execution_count": 10,
      "id": "125b44b5-3f64-4ac6-93f1-3246dcc4c759",
      "metadata": {
        "id": "125b44b5-3f64-4ac6-93f1-3246dcc4c759"
      },
      "outputs": [],
      "source": [
        "with open('kmeans_argmax.pkl', 'wb') as fp:\n",
        "    pickle.dump(kmeans_argmax, fp)"
      ]
    },
    {
      "cell_type": "code",
      "execution_count": 11,
      "id": "fbbdd5d8-62b9-4085-9279-6fed2c284dbf",
      "metadata": {
        "id": "fbbdd5d8-62b9-4085-9279-6fed2c284dbf"
      },
      "outputs": [],
      "source": [
        "distances = [np.linalg.norm(X[i] - x2) for i in range(300) for x2 in X if not (X[i]==x2).all()]\n",
        "min_distances = sorted(distances)[:10]"
      ]
    },
    {
      "cell_type": "code",
      "source": [
        "with open('dist.pkl', 'wb') as fp:\n",
        "    pickle.dump(min_distances, fp)"
      ],
      "metadata": {
        "id": "xG3Onbh6LEzb"
      },
      "id": "xG3Onbh6LEzb",
      "execution_count": 12,
      "outputs": []
    },
    {
      "cell_type": "code",
      "execution_count": 13,
      "id": "c89b91d0-9368-4c24-b746-871a6c4d94f8",
      "metadata": {
        "colab": {
          "base_uri": "https://localhost:8080/"
        },
        "id": "c89b91d0-9368-4c24-b746-871a6c4d94f8",
        "outputId": "6f4a2fb1-1116-406f-fdf8-6b669d0a7f5c"
      },
      "outputs": [
        {
          "output_type": "execute_result",
          "data": {
            "text/plain": [
              "[279.26152617215286,\n",
              " 304.37641170103836,\n",
              " 317.5893575043093,\n",
              " 328.7658741414626,\n",
              " 333.4546445920344,\n",
              " 352.89800226127664,\n",
              " 355.1774204534967,\n",
              " 358.07401469528617,\n",
              " 359.64287842247063,\n",
              " 360.42474942767177]"
            ]
          },
          "metadata": {},
          "execution_count": 13
        }
      ],
      "source": [
        "mean = np.mean(min_distances[:3])\n",
        "min_distances"
      ]
    },
    {
      "cell_type": "code",
      "execution_count": 14,
      "id": "e1cd8cc7-edd3-49f1-89bb-1b0fd90d8468",
      "metadata": {
        "id": "e1cd8cc7-edd3-49f1-89bb-1b0fd90d8468"
      },
      "outputs": [],
      "source": [
        "from sklearn.cluster import DBSCAN\n",
        "dbscan_len = []\n",
        "for eps in np.arange(mean, mean*1.1, mean*0.04):\n",
        "    dbscan = DBSCAN(eps=eps)\n",
        "    dbscan.fit(X)\n",
        "    dbscan_len.append(len(set(dbscan.labels_)))"
      ]
    },
    {
      "cell_type": "code",
      "execution_count": null,
      "id": "a2ef9e07-0395-4d44-82c0-a06586f4b71e",
      "metadata": {
        "id": "a2ef9e07-0395-4d44-82c0-a06586f4b71e"
      },
      "outputs": [],
      "source": [
        "with open('dbscan_len.pkl', 'wb') as fp:\n",
        "    pickle.dump(dbscan_len, fp)"
      ]
    },
    {
      "cell_type": "code",
      "execution_count": 17,
      "id": "da47af7c-4b7d-400d-8890-3a623f9052d5",
      "metadata": {
        "colab": {
          "base_uri": "https://localhost:8080/"
        },
        "id": "da47af7c-4b7d-400d-8890-3a623f9052d5",
        "outputId": "1cbcdf75-ea8b-4254-d026-b7c7d03b3441"
      },
      "outputs": [
        {
          "output_type": "execute_result",
          "data": {
            "text/plain": [
              "[4, 7, 22]"
            ]
          },
          "metadata": {},
          "execution_count": 17
        }
      ],
      "source": [
        "dbscan_len"
      ]
    }
  ],
  "metadata": {
    "kernelspec": {
      "display_name": "Python 3",
      "language": "python",
      "name": "python3"
    },
    "language_info": {
      "codemirror_mode": {
        "name": "ipython",
        "version": 3
      },
      "file_extension": ".py",
      "mimetype": "text/x-python",
      "name": "python",
      "nbconvert_exporter": "python",
      "pygments_lexer": "ipython3",
      "version": "3.8.2"
    },
    "colab": {
      "name": "lab7.ipynb",
      "provenance": [],
      "collapsed_sections": []
    }
  },
  "nbformat": 4,
  "nbformat_minor": 5
}