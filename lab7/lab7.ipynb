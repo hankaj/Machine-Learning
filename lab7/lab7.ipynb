{
 "cells": [
  {
   "cell_type": "code",
   "execution_count": 1,
   "id": "055150e1",
   "metadata": {
    "collapsed": false,
    "jupyter": {
     "outputs_hidden": false
    },
    "pycharm": {
     "name": "#%%\n"
    }
   },
   "outputs": [],
   "source": [
    "from sklearn.datasets import fetch_openml\n",
    "import numpy as np\n",
    "mnist = fetch_openml('mnist_784', version=1, as_frame=False)\n",
    "mnist.target = mnist.target.astype(np.uint8)\n",
    "X = mnist[\"data\"]\n",
    "y = mnist[\"target\"]"
   ]
  },
  {
   "cell_type": "code",
   "execution_count": 2,
   "id": "0f2778c7-0d15-426e-a39d-9d8db0e0a4cd",
   "metadata": {
    "id": "0f2778c7-0d15-426e-a39d-9d8db0e0a4cd"
   },
   "outputs": [],
   "source": [
    "kmeans = []\n",
    "kmeans_sil = []"
   ]
  },
  {
   "cell_type": "code",
   "execution_count": null,
   "id": "8a6eefd1-fdeb-42a9-9b4e-db2f94d31cdf",
   "metadata": {
    "id": "8a6eefd1-fdeb-42a9-9b4e-db2f94d31cdf"
   },
   "outputs": [],
   "source": [
    "from sklearn.cluster import KMeans\n",
    "from sklearn.metrics import silhouette_score\n",
    "\n",
    "for i in range(8, 13):\n",
    "    kmeans_i = KMeans(n_clusters=i)\n",
    "    kmeans_i.fit(X)\n",
    "    sil = silhouette_score(X, kmeans_i.labels_)\n",
    "    kmeans.append(kmeans_i)\n",
    "    kmeans_sil.append(sil)"
   ]
  },
  {
   "cell_type": "code",
   "execution_count": null,
   "id": "dfba71c3-e1d0-4ee0-811b-d4ec1a2ab582",
   "metadata": {
    "colab": {
     "base_uri": "https://localhost:8080/"
    },
    "id": "dfba71c3-e1d0-4ee0-811b-d4ec1a2ab582",
    "outputId": "e77111c2-6264-4dd6-fad1-1808a9e41a26"
   },
   "outputs": [],
   "source": [
    "print(kmeans_sil)"
   ]
  },
  {
   "cell_type": "code",
   "execution_count": null,
   "id": "f01d08b0-8bd8-404b-aec5-b01fa5053294",
   "metadata": {
    "id": "f01d08b0-8bd8-404b-aec5-b01fa5053294"
   },
   "outputs": [],
   "source": [
    "import pickle\n",
    "with open('kmeans_sil.pkl', 'wb') as fp:\n",
    "    pickle.dump(kmeans_sil, fp)"
   ]
  },
  {
   "cell_type": "code",
   "execution_count": null,
   "id": "c607f993-90b9-4481-8e18-57f8d34c76c7",
   "metadata": {
    "id": "c607f993-90b9-4481-8e18-57f8d34c76c7"
   },
   "outputs": [],
   "source": [
    "kmeans_10 = kmeans[2]\n",
    "y_pred = kmeans_10.predict(X)"
   ]
  },
  {
   "cell_type": "code",
   "execution_count": null,
   "id": "0bea22d9-065f-46dc-8cde-877235b7a37e",
   "metadata": {
    "id": "0bea22d9-065f-46dc-8cde-877235b7a37e"
   },
   "outputs": [],
   "source": [
    "from sklearn.metrics import confusion_matrix\n",
    "conf = confusion_matrix(y, y_pred)"
   ]
  },
  {
   "cell_type": "code",
   "execution_count": null,
   "id": "d84418be-8f60-435a-8b4a-3a21b8e99ef8",
   "metadata": {
    "colab": {
     "base_uri": "https://localhost:8080/"
    },
    "id": "d84418be-8f60-435a-8b4a-3a21b8e99ef8",
    "outputId": "80d0ba40-b357-46de-8d71-004439a33669"
   },
   "outputs": [],
   "source": [
    "print(conf)"
   ]
  },
  {
   "cell_type": "code",
   "execution_count": null,
   "id": "db9bc70f-467d-4ca2-95ce-881ae6ce547e",
   "metadata": {
    "colab": {
     "base_uri": "https://localhost:8080/"
    },
    "id": "db9bc70f-467d-4ca2-95ce-881ae6ce547e",
    "outputId": "4e9b90cf-bf65-4631-da74-d66b95292a51"
   },
   "outputs": [],
   "source": [
    "import numpy as np\n",
    "arg_maxes = list(set(np.argmax(row) for row in conf))\n",
    "kmeans_argmax = sorted(arg_maxes)\n",
    "kmeans_argmax"
   ]
  },
  {
   "cell_type": "code",
   "execution_count": null,
   "id": "125b44b5-3f64-4ac6-93f1-3246dcc4c759",
   "metadata": {
    "id": "125b44b5-3f64-4ac6-93f1-3246dcc4c759"
   },
   "outputs": [],
   "source": [
    "with open('kmeans_argmax.pkl', 'wb') as fp:\n",
    "    pickle.dump(kmeans_argmax, fp)"
   ]
  },
  {
   "cell_type": "code",
   "execution_count": null,
   "id": "fbbdd5d8-62b9-4085-9279-6fed2c284dbf",
   "metadata": {
    "id": "fbbdd5d8-62b9-4085-9279-6fed2c284dbf"
   },
   "outputs": [],
   "source": [
    "distances = [np.linalg.norm(X[i] - x2) for i in range(300) for x2 in X if not (X[i]==x2).all()]\n",
    "min_distances = sorted(distances)[:10]"
   ]
  },
  {
   "cell_type": "code",
   "execution_count": null,
   "id": "xG3Onbh6LEzb",
   "metadata": {
    "id": "xG3Onbh6LEzb"
   },
   "outputs": [],
   "source": [
    "with open('dist.pkl', 'wb') as fp:\n",
    "    pickle.dump(min_distances, fp)"
   ]
  },
  {
   "cell_type": "code",
   "execution_count": null,
   "id": "c89b91d0-9368-4c24-b746-871a6c4d94f8",
   "metadata": {
    "colab": {
     "base_uri": "https://localhost:8080/"
    },
    "id": "c89b91d0-9368-4c24-b746-871a6c4d94f8",
    "outputId": "6f4a2fb1-1116-406f-fdf8-6b669d0a7f5c"
   },
   "outputs": [],
   "source": [
    "mean = np.mean(min_distances[:3])\n",
    "min_distances"
   ]
  },
  {
   "cell_type": "code",
   "execution_count": null,
   "id": "e1cd8cc7-edd3-49f1-89bb-1b0fd90d8468",
   "metadata": {
    "id": "e1cd8cc7-edd3-49f1-89bb-1b0fd90d8468"
   },
   "outputs": [],
   "source": [
    "from sklearn.cluster import DBSCAN\n",
    "dbscan_len = []\n",
    "for eps in np.arange(mean, mean*1.1, mean*0.04):\n",
    "    dbscan = DBSCAN(eps=eps)\n",
    "    dbscan.fit(X)\n",
    "    dbscan_len.append(len(set(dbscan.labels_)))"
   ]
  },
  {
   "cell_type": "code",
   "execution_count": null,
   "id": "a2ef9e07-0395-4d44-82c0-a06586f4b71e",
   "metadata": {
    "id": "a2ef9e07-0395-4d44-82c0-a06586f4b71e"
   },
   "outputs": [],
   "source": [
    "with open('dbscan_len.pkl', 'wb') as fp:\n",
    "    pickle.dump(dbscan_len, fp)"
   ]
  },
  {
   "cell_type": "code",
   "execution_count": null,
   "id": "da47af7c-4b7d-400d-8890-3a623f9052d5",
   "metadata": {
    "colab": {
     "base_uri": "https://localhost:8080/"
    },
    "id": "da47af7c-4b7d-400d-8890-3a623f9052d5",
    "outputId": "1cbcdf75-ea8b-4254-d026-b7c7d03b3441"
   },
   "outputs": [],
   "source": [
    "dbscan_len"
   ]
  },
  {
   "cell_type": "code",
   "execution_count": null,
   "id": "e59a683d-ba22-4ded-b268-40d24e49a353",
   "metadata": {},
   "outputs": [],
   "source": []
  }
 ],
 "metadata": {
  "colab": {
   "collapsed_sections": [],
   "name": "lab7.ipynb",
   "provenance": []
  },
  "kernelspec": {
   "display_name": "Python 3",
   "language": "python",
   "name": "python3"
  },
  "language_info": {
   "codemirror_mode": {
    "name": "ipython",
    "version": 3
   },
   "file_extension": ".py",
   "mimetype": "text/x-python",
   "name": "python",
   "nbconvert_exporter": "python",
   "pygments_lexer": "ipython3",
   "version": "3.8.2"
  }
 },
 "nbformat": 4,
 "nbformat_minor": 5
}